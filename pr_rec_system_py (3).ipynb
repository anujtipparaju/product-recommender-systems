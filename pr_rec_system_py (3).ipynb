{
  "nbformat": 4,
  "nbformat_minor": 0,
  "metadata": {
    "colab": {
      "name": "pr.rec-system.py",
      "provenance": [],
      "collapsed_sections": []
    },
    "kernelspec": {
      "name": "python3",
      "display_name": "Python 3"
    },
    "accelerator": "GPU",
    "widgets": {
      "application/vnd.jupyter.widget-state+json": {
        "2ae1d956cd79445f8e0b634f6e169c2f": {
          "model_module": "@jupyter-widgets/controls",
          "model_name": "HBoxModel",
          "state": {
            "_view_name": "HBoxView",
            "_dom_classes": [],
            "_model_name": "HBoxModel",
            "_view_module": "@jupyter-widgets/controls",
            "_model_module_version": "1.5.0",
            "_view_count": null,
            "_view_module_version": "1.5.0",
            "box_style": "",
            "layout": "IPY_MODEL_c8e9f4db64c94398a683c70f61cdbbf1",
            "_model_module": "@jupyter-widgets/controls",
            "children": [
              "IPY_MODEL_9fcb223bd6ab47e38f32865c942eba1f",
              "IPY_MODEL_e556ffe8e3b04549ac874d8895e0e889"
            ]
          }
        },
        "c8e9f4db64c94398a683c70f61cdbbf1": {
          "model_module": "@jupyter-widgets/base",
          "model_name": "LayoutModel",
          "state": {
            "_view_name": "LayoutView",
            "grid_template_rows": null,
            "right": null,
            "justify_content": null,
            "_view_module": "@jupyter-widgets/base",
            "overflow": null,
            "_model_module_version": "1.2.0",
            "_view_count": null,
            "flex_flow": null,
            "width": null,
            "min_width": null,
            "border": null,
            "align_items": null,
            "bottom": null,
            "_model_module": "@jupyter-widgets/base",
            "top": null,
            "grid_column": null,
            "overflow_y": null,
            "overflow_x": null,
            "grid_auto_flow": null,
            "grid_area": null,
            "grid_template_columns": null,
            "flex": null,
            "_model_name": "LayoutModel",
            "justify_items": null,
            "grid_row": null,
            "max_height": null,
            "align_content": null,
            "visibility": null,
            "align_self": null,
            "height": null,
            "min_height": null,
            "padding": null,
            "grid_auto_rows": null,
            "grid_gap": null,
            "max_width": null,
            "order": null,
            "_view_module_version": "1.2.0",
            "grid_template_areas": null,
            "object_position": null,
            "object_fit": null,
            "grid_auto_columns": null,
            "margin": null,
            "display": null,
            "left": null
          }
        },
        "9fcb223bd6ab47e38f32865c942eba1f": {
          "model_module": "@jupyter-widgets/controls",
          "model_name": "FloatProgressModel",
          "state": {
            "_view_name": "ProgressView",
            "style": "IPY_MODEL_b1e67d7693c44247a46d2958c8009e17",
            "_dom_classes": [],
            "description": "100%",
            "_model_name": "FloatProgressModel",
            "bar_style": "success",
            "max": 50,
            "_view_module": "@jupyter-widgets/controls",
            "_model_module_version": "1.5.0",
            "value": 50,
            "_view_count": null,
            "_view_module_version": "1.5.0",
            "orientation": "horizontal",
            "min": 0,
            "description_tooltip": null,
            "_model_module": "@jupyter-widgets/controls",
            "layout": "IPY_MODEL_c792a73e73fe44f8a14ea17061474498"
          }
        },
        "e556ffe8e3b04549ac874d8895e0e889": {
          "model_module": "@jupyter-widgets/controls",
          "model_name": "HTMLModel",
          "state": {
            "_view_name": "HTMLView",
            "style": "IPY_MODEL_a96af908e9224c8e921244838afb1d1c",
            "_dom_classes": [],
            "description": "",
            "_model_name": "HTMLModel",
            "placeholder": "​",
            "_view_module": "@jupyter-widgets/controls",
            "_model_module_version": "1.5.0",
            "value": " 50/50 [00:01&lt;00:00, 45.57it/s]",
            "_view_count": null,
            "_view_module_version": "1.5.0",
            "description_tooltip": null,
            "_model_module": "@jupyter-widgets/controls",
            "layout": "IPY_MODEL_d4418d76bd6446428fdac520328d81d8"
          }
        },
        "b1e67d7693c44247a46d2958c8009e17": {
          "model_module": "@jupyter-widgets/controls",
          "model_name": "ProgressStyleModel",
          "state": {
            "_view_name": "StyleView",
            "_model_name": "ProgressStyleModel",
            "description_width": "initial",
            "_view_module": "@jupyter-widgets/base",
            "_model_module_version": "1.5.0",
            "_view_count": null,
            "_view_module_version": "1.2.0",
            "bar_color": null,
            "_model_module": "@jupyter-widgets/controls"
          }
        },
        "c792a73e73fe44f8a14ea17061474498": {
          "model_module": "@jupyter-widgets/base",
          "model_name": "LayoutModel",
          "state": {
            "_view_name": "LayoutView",
            "grid_template_rows": null,
            "right": null,
            "justify_content": null,
            "_view_module": "@jupyter-widgets/base",
            "overflow": null,
            "_model_module_version": "1.2.0",
            "_view_count": null,
            "flex_flow": null,
            "width": null,
            "min_width": null,
            "border": null,
            "align_items": null,
            "bottom": null,
            "_model_module": "@jupyter-widgets/base",
            "top": null,
            "grid_column": null,
            "overflow_y": null,
            "overflow_x": null,
            "grid_auto_flow": null,
            "grid_area": null,
            "grid_template_columns": null,
            "flex": null,
            "_model_name": "LayoutModel",
            "justify_items": null,
            "grid_row": null,
            "max_height": null,
            "align_content": null,
            "visibility": null,
            "align_self": null,
            "height": null,
            "min_height": null,
            "padding": null,
            "grid_auto_rows": null,
            "grid_gap": null,
            "max_width": null,
            "order": null,
            "_view_module_version": "1.2.0",
            "grid_template_areas": null,
            "object_position": null,
            "object_fit": null,
            "grid_auto_columns": null,
            "margin": null,
            "display": null,
            "left": null
          }
        },
        "a96af908e9224c8e921244838afb1d1c": {
          "model_module": "@jupyter-widgets/controls",
          "model_name": "DescriptionStyleModel",
          "state": {
            "_view_name": "StyleView",
            "_model_name": "DescriptionStyleModel",
            "description_width": "",
            "_view_module": "@jupyter-widgets/base",
            "_model_module_version": "1.5.0",
            "_view_count": null,
            "_view_module_version": "1.2.0",
            "_model_module": "@jupyter-widgets/controls"
          }
        },
        "d4418d76bd6446428fdac520328d81d8": {
          "model_module": "@jupyter-widgets/base",
          "model_name": "LayoutModel",
          "state": {
            "_view_name": "LayoutView",
            "grid_template_rows": null,
            "right": null,
            "justify_content": null,
            "_view_module": "@jupyter-widgets/base",
            "overflow": null,
            "_model_module_version": "1.2.0",
            "_view_count": null,
            "flex_flow": null,
            "width": null,
            "min_width": null,
            "border": null,
            "align_items": null,
            "bottom": null,
            "_model_module": "@jupyter-widgets/base",
            "top": null,
            "grid_column": null,
            "overflow_y": null,
            "overflow_x": null,
            "grid_auto_flow": null,
            "grid_area": null,
            "grid_template_columns": null,
            "flex": null,
            "_model_name": "LayoutModel",
            "justify_items": null,
            "grid_row": null,
            "max_height": null,
            "align_content": null,
            "visibility": null,
            "align_self": null,
            "height": null,
            "min_height": null,
            "padding": null,
            "grid_auto_rows": null,
            "grid_gap": null,
            "max_width": null,
            "order": null,
            "_view_module_version": "1.2.0",
            "grid_template_areas": null,
            "object_position": null,
            "object_fit": null,
            "grid_auto_columns": null,
            "margin": null,
            "display": null,
            "left": null
          }
        }
      }
    }
  },
  "cells": [
    {
      "cell_type": "code",
      "metadata": {
        "id": "N_EkhVNY2L8O",
        "colab_type": "code",
        "colab": {
          "base_uri": "https://localhost:8080/",
          "height": 248
        },
        "outputId": "f4d8aa9e-fa10-4ab7-d41f-37c6de31d639"
      },
      "source": [
        "pip install implicit"
      ],
      "execution_count": null,
      "outputs": [
        {
          "output_type": "stream",
          "text": [
            "Collecting implicit\n",
            "\u001b[?25l  Downloading https://files.pythonhosted.org/packages/5a/d8/6b4f1374ffa2647b72ac76960c71b984c6f3238090359fb419d03827d87a/implicit-0.4.2.tar.gz (1.1MB)\n",
            "\u001b[K     |████████████████████████████████| 1.1MB 2.8MB/s \n",
            "\u001b[?25hRequirement already satisfied: numpy in /usr/local/lib/python3.6/dist-packages (from implicit) (1.18.4)\n",
            "Requirement already satisfied: scipy>=0.16 in /usr/local/lib/python3.6/dist-packages (from implicit) (1.4.1)\n",
            "Requirement already satisfied: tqdm>=4.27 in /usr/local/lib/python3.6/dist-packages (from implicit) (4.41.1)\n",
            "Building wheels for collected packages: implicit\n",
            "  Building wheel for implicit (setup.py) ... \u001b[?25l\u001b[?25hdone\n",
            "  Created wheel for implicit: filename=implicit-0.4.2-cp36-cp36m-linux_x86_64.whl size=3468807 sha256=583ba535164b3f518ddc2750eafdb55eec3877f74295608d087c28694692d99a\n",
            "  Stored in directory: /root/.cache/pip/wheels/1b/48/b1/1aebe3acc3afb5589e72d3e7c3ffc3f637dc4721c1a974dff7\n",
            "Successfully built implicit\n",
            "Installing collected packages: implicit\n",
            "Successfully installed implicit-0.4.2\n"
          ],
          "name": "stdout"
        }
      ]
    },
    {
      "cell_type": "code",
      "metadata": {
        "id": "h4LwZ-3c2xFk",
        "colab_type": "code",
        "colab": {}
      },
      "source": [
        "import sqlite3\n",
        "import numpy as np\n",
        "import pandas as pd\n",
        "import scipy\n",
        "import implicit\n",
        "import random\n",
        "from datetime import datetime"
      ],
      "execution_count": null,
      "outputs": []
    },
    {
      "cell_type": "code",
      "metadata": {
        "id": "ebnrQLLm220f",
        "colab_type": "code",
        "colab": {
          "base_uri": "https://localhost:8080/",
          "height": 399
        },
        "outputId": "6bce2157-3760-48c2-aba4-a5a6fe0ff76f"
      },
      "source": [
        "url = 'https://archive.ics.uci.edu/ml/machine-learning-databases/00352/Online%20Retail.xlsx'\n",
        "data = pd.read_excel(url)\n",
        "data.head(100)\n",
        "#data.info()"
      ],
      "execution_count": null,
      "outputs": [
        {
          "output_type": "execute_result",
          "data": {
            "text/html": [
              "<div>\n",
              "<style scoped>\n",
              "    .dataframe tbody tr th:only-of-type {\n",
              "        vertical-align: middle;\n",
              "    }\n",
              "\n",
              "    .dataframe tbody tr th {\n",
              "        vertical-align: top;\n",
              "    }\n",
              "\n",
              "    .dataframe thead th {\n",
              "        text-align: right;\n",
              "    }\n",
              "</style>\n",
              "<table border=\"1\" class=\"dataframe\">\n",
              "  <thead>\n",
              "    <tr style=\"text-align: right;\">\n",
              "      <th></th>\n",
              "      <th>InvoiceNo</th>\n",
              "      <th>StockCode</th>\n",
              "      <th>Description</th>\n",
              "      <th>Quantity</th>\n",
              "      <th>InvoiceDate</th>\n",
              "      <th>UnitPrice</th>\n",
              "      <th>CustomerID</th>\n",
              "      <th>Country</th>\n",
              "    </tr>\n",
              "  </thead>\n",
              "  <tbody>\n",
              "    <tr>\n",
              "      <th>0</th>\n",
              "      <td>536365</td>\n",
              "      <td>85123A</td>\n",
              "      <td>WHITE HANGING HEART T-LIGHT HOLDER</td>\n",
              "      <td>6</td>\n",
              "      <td>2010-12-01 08:26:00</td>\n",
              "      <td>2.55</td>\n",
              "      <td>17850.0</td>\n",
              "      <td>United Kingdom</td>\n",
              "    </tr>\n",
              "    <tr>\n",
              "      <th>1</th>\n",
              "      <td>536365</td>\n",
              "      <td>71053</td>\n",
              "      <td>WHITE METAL LANTERN</td>\n",
              "      <td>6</td>\n",
              "      <td>2010-12-01 08:26:00</td>\n",
              "      <td>3.39</td>\n",
              "      <td>17850.0</td>\n",
              "      <td>United Kingdom</td>\n",
              "    </tr>\n",
              "    <tr>\n",
              "      <th>2</th>\n",
              "      <td>536365</td>\n",
              "      <td>84406B</td>\n",
              "      <td>CREAM CUPID HEARTS COAT HANGER</td>\n",
              "      <td>8</td>\n",
              "      <td>2010-12-01 08:26:00</td>\n",
              "      <td>2.75</td>\n",
              "      <td>17850.0</td>\n",
              "      <td>United Kingdom</td>\n",
              "    </tr>\n",
              "    <tr>\n",
              "      <th>3</th>\n",
              "      <td>536365</td>\n",
              "      <td>84029G</td>\n",
              "      <td>KNITTED UNION FLAG HOT WATER BOTTLE</td>\n",
              "      <td>6</td>\n",
              "      <td>2010-12-01 08:26:00</td>\n",
              "      <td>3.39</td>\n",
              "      <td>17850.0</td>\n",
              "      <td>United Kingdom</td>\n",
              "    </tr>\n",
              "    <tr>\n",
              "      <th>4</th>\n",
              "      <td>536365</td>\n",
              "      <td>84029E</td>\n",
              "      <td>RED WOOLLY HOTTIE WHITE HEART.</td>\n",
              "      <td>6</td>\n",
              "      <td>2010-12-01 08:26:00</td>\n",
              "      <td>3.39</td>\n",
              "      <td>17850.0</td>\n",
              "      <td>United Kingdom</td>\n",
              "    </tr>\n",
              "    <tr>\n",
              "      <th>...</th>\n",
              "      <td>...</td>\n",
              "      <td>...</td>\n",
              "      <td>...</td>\n",
              "      <td>...</td>\n",
              "      <td>...</td>\n",
              "      <td>...</td>\n",
              "      <td>...</td>\n",
              "      <td>...</td>\n",
              "    </tr>\n",
              "    <tr>\n",
              "      <th>95</th>\n",
              "      <td>536378</td>\n",
              "      <td>22352</td>\n",
              "      <td>LUNCH BOX WITH CUTLERY RETROSPOT</td>\n",
              "      <td>6</td>\n",
              "      <td>2010-12-01 09:37:00</td>\n",
              "      <td>2.55</td>\n",
              "      <td>14688.0</td>\n",
              "      <td>United Kingdom</td>\n",
              "    </tr>\n",
              "    <tr>\n",
              "      <th>96</th>\n",
              "      <td>536378</td>\n",
              "      <td>21212</td>\n",
              "      <td>PACK OF 72 RETROSPOT CAKE CASES</td>\n",
              "      <td>120</td>\n",
              "      <td>2010-12-01 09:37:00</td>\n",
              "      <td>0.42</td>\n",
              "      <td>14688.0</td>\n",
              "      <td>United Kingdom</td>\n",
              "    </tr>\n",
              "    <tr>\n",
              "      <th>97</th>\n",
              "      <td>536378</td>\n",
              "      <td>21975</td>\n",
              "      <td>PACK OF 60 DINOSAUR CAKE CASES</td>\n",
              "      <td>24</td>\n",
              "      <td>2010-12-01 09:37:00</td>\n",
              "      <td>0.55</td>\n",
              "      <td>14688.0</td>\n",
              "      <td>United Kingdom</td>\n",
              "    </tr>\n",
              "    <tr>\n",
              "      <th>98</th>\n",
              "      <td>536378</td>\n",
              "      <td>21977</td>\n",
              "      <td>PACK OF 60 PINK PAISLEY CAKE CASES</td>\n",
              "      <td>24</td>\n",
              "      <td>2010-12-01 09:37:00</td>\n",
              "      <td>0.55</td>\n",
              "      <td>14688.0</td>\n",
              "      <td>United Kingdom</td>\n",
              "    </tr>\n",
              "    <tr>\n",
              "      <th>99</th>\n",
              "      <td>536378</td>\n",
              "      <td>84991</td>\n",
              "      <td>60 TEATIME FAIRY CAKE CASES</td>\n",
              "      <td>24</td>\n",
              "      <td>2010-12-01 09:37:00</td>\n",
              "      <td>0.55</td>\n",
              "      <td>14688.0</td>\n",
              "      <td>United Kingdom</td>\n",
              "    </tr>\n",
              "  </tbody>\n",
              "</table>\n",
              "<p>100 rows × 8 columns</p>\n",
              "</div>"
            ],
            "text/plain": [
              "   InvoiceNo StockCode  ... CustomerID         Country\n",
              "0     536365    85123A  ...    17850.0  United Kingdom\n",
              "1     536365     71053  ...    17850.0  United Kingdom\n",
              "2     536365    84406B  ...    17850.0  United Kingdom\n",
              "3     536365    84029G  ...    17850.0  United Kingdom\n",
              "4     536365    84029E  ...    17850.0  United Kingdom\n",
              "..       ...       ...  ...        ...             ...\n",
              "95    536378     22352  ...    14688.0  United Kingdom\n",
              "96    536378     21212  ...    14688.0  United Kingdom\n",
              "97    536378     21975  ...    14688.0  United Kingdom\n",
              "98    536378     21977  ...    14688.0  United Kingdom\n",
              "99    536378     84991  ...    14688.0  United Kingdom\n",
              "\n",
              "[100 rows x 8 columns]"
            ]
          },
          "metadata": {
            "tags": []
          },
          "execution_count": 3
        }
      ]
    },
    {
      "cell_type": "code",
      "metadata": {
        "id": "S31O7v6Zc702",
        "colab_type": "code",
        "colab": {}
      },
      "source": [
        "data = data[pd.notna(data['CustomerID'])]\n",
        "#data.info()"
      ],
      "execution_count": null,
      "outputs": []
    },
    {
      "cell_type": "code",
      "metadata": {
        "id": "LI7is_hrJmi_",
        "colab_type": "code",
        "colab": {
          "base_uri": "https://localhost:8080/",
          "height": 399
        },
        "outputId": "798feba1-cde9-46bf-d176-7bee3d1f6c6b"
      },
      "source": [
        "# to remove all the missing values from the dataframe. the rows are reduced from 541908 to 406829.\n",
        "data.dropna() "
      ],
      "execution_count": null,
      "outputs": [
        {
          "output_type": "execute_result",
          "data": {
            "text/html": [
              "<div>\n",
              "<style scoped>\n",
              "    .dataframe tbody tr th:only-of-type {\n",
              "        vertical-align: middle;\n",
              "    }\n",
              "\n",
              "    .dataframe tbody tr th {\n",
              "        vertical-align: top;\n",
              "    }\n",
              "\n",
              "    .dataframe thead th {\n",
              "        text-align: right;\n",
              "    }\n",
              "</style>\n",
              "<table border=\"1\" class=\"dataframe\">\n",
              "  <thead>\n",
              "    <tr style=\"text-align: right;\">\n",
              "      <th></th>\n",
              "      <th>InvoiceNo</th>\n",
              "      <th>StockCode</th>\n",
              "      <th>Description</th>\n",
              "      <th>Quantity</th>\n",
              "      <th>InvoiceDate</th>\n",
              "      <th>UnitPrice</th>\n",
              "      <th>CustomerID</th>\n",
              "      <th>Country</th>\n",
              "    </tr>\n",
              "  </thead>\n",
              "  <tbody>\n",
              "    <tr>\n",
              "      <th>0</th>\n",
              "      <td>536365</td>\n",
              "      <td>85123A</td>\n",
              "      <td>WHITE HANGING HEART T-LIGHT HOLDER</td>\n",
              "      <td>6</td>\n",
              "      <td>2010-12-01 08:26:00</td>\n",
              "      <td>2.55</td>\n",
              "      <td>17850.0</td>\n",
              "      <td>United Kingdom</td>\n",
              "    </tr>\n",
              "    <tr>\n",
              "      <th>1</th>\n",
              "      <td>536365</td>\n",
              "      <td>71053</td>\n",
              "      <td>WHITE METAL LANTERN</td>\n",
              "      <td>6</td>\n",
              "      <td>2010-12-01 08:26:00</td>\n",
              "      <td>3.39</td>\n",
              "      <td>17850.0</td>\n",
              "      <td>United Kingdom</td>\n",
              "    </tr>\n",
              "    <tr>\n",
              "      <th>2</th>\n",
              "      <td>536365</td>\n",
              "      <td>84406B</td>\n",
              "      <td>CREAM CUPID HEARTS COAT HANGER</td>\n",
              "      <td>8</td>\n",
              "      <td>2010-12-01 08:26:00</td>\n",
              "      <td>2.75</td>\n",
              "      <td>17850.0</td>\n",
              "      <td>United Kingdom</td>\n",
              "    </tr>\n",
              "    <tr>\n",
              "      <th>3</th>\n",
              "      <td>536365</td>\n",
              "      <td>84029G</td>\n",
              "      <td>KNITTED UNION FLAG HOT WATER BOTTLE</td>\n",
              "      <td>6</td>\n",
              "      <td>2010-12-01 08:26:00</td>\n",
              "      <td>3.39</td>\n",
              "      <td>17850.0</td>\n",
              "      <td>United Kingdom</td>\n",
              "    </tr>\n",
              "    <tr>\n",
              "      <th>4</th>\n",
              "      <td>536365</td>\n",
              "      <td>84029E</td>\n",
              "      <td>RED WOOLLY HOTTIE WHITE HEART.</td>\n",
              "      <td>6</td>\n",
              "      <td>2010-12-01 08:26:00</td>\n",
              "      <td>3.39</td>\n",
              "      <td>17850.0</td>\n",
              "      <td>United Kingdom</td>\n",
              "    </tr>\n",
              "    <tr>\n",
              "      <th>...</th>\n",
              "      <td>...</td>\n",
              "      <td>...</td>\n",
              "      <td>...</td>\n",
              "      <td>...</td>\n",
              "      <td>...</td>\n",
              "      <td>...</td>\n",
              "      <td>...</td>\n",
              "      <td>...</td>\n",
              "    </tr>\n",
              "    <tr>\n",
              "      <th>541904</th>\n",
              "      <td>581587</td>\n",
              "      <td>22613</td>\n",
              "      <td>PACK OF 20 SPACEBOY NAPKINS</td>\n",
              "      <td>12</td>\n",
              "      <td>2011-12-09 12:50:00</td>\n",
              "      <td>0.85</td>\n",
              "      <td>12680.0</td>\n",
              "      <td>France</td>\n",
              "    </tr>\n",
              "    <tr>\n",
              "      <th>541905</th>\n",
              "      <td>581587</td>\n",
              "      <td>22899</td>\n",
              "      <td>CHILDREN'S APRON DOLLY GIRL</td>\n",
              "      <td>6</td>\n",
              "      <td>2011-12-09 12:50:00</td>\n",
              "      <td>2.10</td>\n",
              "      <td>12680.0</td>\n",
              "      <td>France</td>\n",
              "    </tr>\n",
              "    <tr>\n",
              "      <th>541906</th>\n",
              "      <td>581587</td>\n",
              "      <td>23254</td>\n",
              "      <td>CHILDRENS CUTLERY DOLLY GIRL</td>\n",
              "      <td>4</td>\n",
              "      <td>2011-12-09 12:50:00</td>\n",
              "      <td>4.15</td>\n",
              "      <td>12680.0</td>\n",
              "      <td>France</td>\n",
              "    </tr>\n",
              "    <tr>\n",
              "      <th>541907</th>\n",
              "      <td>581587</td>\n",
              "      <td>23255</td>\n",
              "      <td>CHILDRENS CUTLERY CIRCUS PARADE</td>\n",
              "      <td>4</td>\n",
              "      <td>2011-12-09 12:50:00</td>\n",
              "      <td>4.15</td>\n",
              "      <td>12680.0</td>\n",
              "      <td>France</td>\n",
              "    </tr>\n",
              "    <tr>\n",
              "      <th>541908</th>\n",
              "      <td>581587</td>\n",
              "      <td>22138</td>\n",
              "      <td>BAKING SET 9 PIECE RETROSPOT</td>\n",
              "      <td>3</td>\n",
              "      <td>2011-12-09 12:50:00</td>\n",
              "      <td>4.95</td>\n",
              "      <td>12680.0</td>\n",
              "      <td>France</td>\n",
              "    </tr>\n",
              "  </tbody>\n",
              "</table>\n",
              "<p>406829 rows × 8 columns</p>\n",
              "</div>"
            ],
            "text/plain": [
              "       InvoiceNo StockCode  ... CustomerID         Country\n",
              "0         536365    85123A  ...    17850.0  United Kingdom\n",
              "1         536365     71053  ...    17850.0  United Kingdom\n",
              "2         536365    84406B  ...    17850.0  United Kingdom\n",
              "3         536365    84029G  ...    17850.0  United Kingdom\n",
              "4         536365    84029E  ...    17850.0  United Kingdom\n",
              "...          ...       ...  ...        ...             ...\n",
              "541904    581587     22613  ...    12680.0          France\n",
              "541905    581587     22899  ...    12680.0          France\n",
              "541906    581587     23254  ...    12680.0          France\n",
              "541907    581587     23255  ...    12680.0          France\n",
              "541908    581587     22138  ...    12680.0          France\n",
              "\n",
              "[406829 rows x 8 columns]"
            ]
          },
          "metadata": {
            "tags": []
          },
          "execution_count": 5
        }
      ]
    },
    {
      "cell_type": "code",
      "metadata": {
        "id": "hAOM5juBL157",
        "colab_type": "code",
        "colab": {
          "base_uri": "https://localhost:8080/",
          "height": 266
        },
        "outputId": "5ab9a65a-92c2-44d3-a207-ee69cd92204b"
      },
      "source": [
        "# to remove all the negative values from the \"Quantity\" column.\n",
        "#df.ix[] will slice the labels and integers and returns the dataframe as required.\n",
        "#here we are slicing the rows(default) from quantity attribute whose values are less than zero.\n",
        "data = data[data['Quantity']>0]\n",
        "print(data)\n"
      ],
      "execution_count": null,
      "outputs": [
        {
          "output_type": "stream",
          "text": [
            "       InvoiceNo StockCode  ... CustomerID         Country\n",
            "0         536365    85123A  ...    17850.0  United Kingdom\n",
            "1         536365     71053  ...    17850.0  United Kingdom\n",
            "2         536365    84406B  ...    17850.0  United Kingdom\n",
            "3         536365    84029G  ...    17850.0  United Kingdom\n",
            "4         536365    84029E  ...    17850.0  United Kingdom\n",
            "...          ...       ...  ...        ...             ...\n",
            "541904    581587     22613  ...    12680.0          France\n",
            "541905    581587     22899  ...    12680.0          France\n",
            "541906    581587     23254  ...    12680.0          France\n",
            "541907    581587     23255  ...    12680.0          France\n",
            "541908    581587     22138  ...    12680.0          France\n",
            "\n",
            "[397924 rows x 8 columns]\n"
          ],
          "name": "stdout"
        }
      ]
    },
    {
      "cell_type": "code",
      "metadata": {
        "id": "G1FFQLcpOs-l",
        "colab_type": "code",
        "colab": {
          "base_uri": "https://localhost:8080/",
          "height": 399
        },
        "outputId": "1a14ae73-f42c-4b37-92be-7017e2d6ad1f"
      },
      "source": [
        "recData = data.groupby(['CustomerID','StockCode','Description'], as_index = False).agg({'InvoiceNo': 'nunique'})\n",
        "#'nunique' returns the number of unique data in the group.\n",
        "recData"
      ],
      "execution_count": null,
      "outputs": [
        {
          "output_type": "execute_result",
          "data": {
            "text/html": [
              "<div>\n",
              "<style scoped>\n",
              "    .dataframe tbody tr th:only-of-type {\n",
              "        vertical-align: middle;\n",
              "    }\n",
              "\n",
              "    .dataframe tbody tr th {\n",
              "        vertical-align: top;\n",
              "    }\n",
              "\n",
              "    .dataframe thead th {\n",
              "        text-align: right;\n",
              "    }\n",
              "</style>\n",
              "<table border=\"1\" class=\"dataframe\">\n",
              "  <thead>\n",
              "    <tr style=\"text-align: right;\">\n",
              "      <th></th>\n",
              "      <th>CustomerID</th>\n",
              "      <th>StockCode</th>\n",
              "      <th>Description</th>\n",
              "      <th>InvoiceNo</th>\n",
              "    </tr>\n",
              "  </thead>\n",
              "  <tbody>\n",
              "    <tr>\n",
              "      <th>0</th>\n",
              "      <td>12346.0</td>\n",
              "      <td>23166</td>\n",
              "      <td>MEDIUM CERAMIC TOP STORAGE JAR</td>\n",
              "      <td>1</td>\n",
              "    </tr>\n",
              "    <tr>\n",
              "      <th>1</th>\n",
              "      <td>12347.0</td>\n",
              "      <td>16008</td>\n",
              "      <td>SMALL FOLDING SCISSOR(POINTED EDGE)</td>\n",
              "      <td>1</td>\n",
              "    </tr>\n",
              "    <tr>\n",
              "      <th>2</th>\n",
              "      <td>12347.0</td>\n",
              "      <td>17021</td>\n",
              "      <td>NAMASTE SWAGAT INCENSE</td>\n",
              "      <td>1</td>\n",
              "    </tr>\n",
              "    <tr>\n",
              "      <th>3</th>\n",
              "      <td>12347.0</td>\n",
              "      <td>20665</td>\n",
              "      <td>RED RETROSPOT PURSE</td>\n",
              "      <td>1</td>\n",
              "    </tr>\n",
              "    <tr>\n",
              "      <th>4</th>\n",
              "      <td>12347.0</td>\n",
              "      <td>20719</td>\n",
              "      <td>WOODLAND CHARLOTTE BAG</td>\n",
              "      <td>4</td>\n",
              "    </tr>\n",
              "    <tr>\n",
              "      <th>...</th>\n",
              "      <td>...</td>\n",
              "      <td>...</td>\n",
              "      <td>...</td>\n",
              "      <td>...</td>\n",
              "    </tr>\n",
              "    <tr>\n",
              "      <th>268403</th>\n",
              "      <td>18287.0</td>\n",
              "      <td>72351B</td>\n",
              "      <td>SET/6 PINK  BUTTERFLY T-LIGHTS</td>\n",
              "      <td>1</td>\n",
              "    </tr>\n",
              "    <tr>\n",
              "      <th>268404</th>\n",
              "      <td>18287.0</td>\n",
              "      <td>84507C</td>\n",
              "      <td>BLUE CIRCLES DESIGN MONKEY DOLL</td>\n",
              "      <td>1</td>\n",
              "    </tr>\n",
              "    <tr>\n",
              "      <th>268405</th>\n",
              "      <td>18287.0</td>\n",
              "      <td>85039A</td>\n",
              "      <td>SET/4 RED MINI ROSE CANDLE IN BOWL</td>\n",
              "      <td>2</td>\n",
              "    </tr>\n",
              "    <tr>\n",
              "      <th>268406</th>\n",
              "      <td>18287.0</td>\n",
              "      <td>85039B</td>\n",
              "      <td>S/4 IVORY MINI ROSE CANDLE IN BOWL</td>\n",
              "      <td>2</td>\n",
              "    </tr>\n",
              "    <tr>\n",
              "      <th>268407</th>\n",
              "      <td>18287.0</td>\n",
              "      <td>85040A</td>\n",
              "      <td>S/4 PINK FLOWER CANDLES IN BOWL</td>\n",
              "      <td>1</td>\n",
              "    </tr>\n",
              "  </tbody>\n",
              "</table>\n",
              "<p>268408 rows × 4 columns</p>\n",
              "</div>"
            ],
            "text/plain": [
              "        CustomerID StockCode                          Description  InvoiceNo\n",
              "0          12346.0     23166       MEDIUM CERAMIC TOP STORAGE JAR          1\n",
              "1          12347.0     16008  SMALL FOLDING SCISSOR(POINTED EDGE)          1\n",
              "2          12347.0     17021               NAMASTE SWAGAT INCENSE          1\n",
              "3          12347.0     20665                 RED RETROSPOT PURSE           1\n",
              "4          12347.0     20719               WOODLAND CHARLOTTE BAG          4\n",
              "...            ...       ...                                  ...        ...\n",
              "268403     18287.0    72351B       SET/6 PINK  BUTTERFLY T-LIGHTS          1\n",
              "268404     18287.0    84507C      BLUE CIRCLES DESIGN MONKEY DOLL          1\n",
              "268405     18287.0    85039A   SET/4 RED MINI ROSE CANDLE IN BOWL          2\n",
              "268406     18287.0    85039B   S/4 IVORY MINI ROSE CANDLE IN BOWL          2\n",
              "268407     18287.0    85040A      S/4 PINK FLOWER CANDLES IN BOWL          1\n",
              "\n",
              "[268408 rows x 4 columns]"
            ]
          },
          "metadata": {
            "tags": []
          },
          "execution_count": 7
        }
      ]
    },
    {
      "cell_type": "code",
      "metadata": {
        "id": "VNYHuBXY-Ykq",
        "colab_type": "code",
        "colab": {}
      },
      "source": [
        "\n",
        "recData.rename(columns = {'InvoiceNo':'score'}, inplace = True)"
      ],
      "execution_count": null,
      "outputs": []
    },
    {
      "cell_type": "code",
      "metadata": {
        "id": "HRNS6tWOoFJ2",
        "colab_type": "code",
        "colab": {
          "base_uri": "https://localhost:8080/",
          "height": 399
        },
        "outputId": "17703da8-1acf-425c-fbcf-4fd678382564"
      },
      "source": [
        "recData"
      ],
      "execution_count": null,
      "outputs": [
        {
          "output_type": "execute_result",
          "data": {
            "text/html": [
              "<div>\n",
              "<style scoped>\n",
              "    .dataframe tbody tr th:only-of-type {\n",
              "        vertical-align: middle;\n",
              "    }\n",
              "\n",
              "    .dataframe tbody tr th {\n",
              "        vertical-align: top;\n",
              "    }\n",
              "\n",
              "    .dataframe thead th {\n",
              "        text-align: right;\n",
              "    }\n",
              "</style>\n",
              "<table border=\"1\" class=\"dataframe\">\n",
              "  <thead>\n",
              "    <tr style=\"text-align: right;\">\n",
              "      <th></th>\n",
              "      <th>CustomerID</th>\n",
              "      <th>StockCode</th>\n",
              "      <th>Description</th>\n",
              "      <th>score</th>\n",
              "    </tr>\n",
              "  </thead>\n",
              "  <tbody>\n",
              "    <tr>\n",
              "      <th>0</th>\n",
              "      <td>12346.0</td>\n",
              "      <td>23166</td>\n",
              "      <td>MEDIUM CERAMIC TOP STORAGE JAR</td>\n",
              "      <td>1</td>\n",
              "    </tr>\n",
              "    <tr>\n",
              "      <th>1</th>\n",
              "      <td>12347.0</td>\n",
              "      <td>16008</td>\n",
              "      <td>SMALL FOLDING SCISSOR(POINTED EDGE)</td>\n",
              "      <td>1</td>\n",
              "    </tr>\n",
              "    <tr>\n",
              "      <th>2</th>\n",
              "      <td>12347.0</td>\n",
              "      <td>17021</td>\n",
              "      <td>NAMASTE SWAGAT INCENSE</td>\n",
              "      <td>1</td>\n",
              "    </tr>\n",
              "    <tr>\n",
              "      <th>3</th>\n",
              "      <td>12347.0</td>\n",
              "      <td>20665</td>\n",
              "      <td>RED RETROSPOT PURSE</td>\n",
              "      <td>1</td>\n",
              "    </tr>\n",
              "    <tr>\n",
              "      <th>4</th>\n",
              "      <td>12347.0</td>\n",
              "      <td>20719</td>\n",
              "      <td>WOODLAND CHARLOTTE BAG</td>\n",
              "      <td>4</td>\n",
              "    </tr>\n",
              "    <tr>\n",
              "      <th>...</th>\n",
              "      <td>...</td>\n",
              "      <td>...</td>\n",
              "      <td>...</td>\n",
              "      <td>...</td>\n",
              "    </tr>\n",
              "    <tr>\n",
              "      <th>268403</th>\n",
              "      <td>18287.0</td>\n",
              "      <td>72351B</td>\n",
              "      <td>SET/6 PINK  BUTTERFLY T-LIGHTS</td>\n",
              "      <td>1</td>\n",
              "    </tr>\n",
              "    <tr>\n",
              "      <th>268404</th>\n",
              "      <td>18287.0</td>\n",
              "      <td>84507C</td>\n",
              "      <td>BLUE CIRCLES DESIGN MONKEY DOLL</td>\n",
              "      <td>1</td>\n",
              "    </tr>\n",
              "    <tr>\n",
              "      <th>268405</th>\n",
              "      <td>18287.0</td>\n",
              "      <td>85039A</td>\n",
              "      <td>SET/4 RED MINI ROSE CANDLE IN BOWL</td>\n",
              "      <td>2</td>\n",
              "    </tr>\n",
              "    <tr>\n",
              "      <th>268406</th>\n",
              "      <td>18287.0</td>\n",
              "      <td>85039B</td>\n",
              "      <td>S/4 IVORY MINI ROSE CANDLE IN BOWL</td>\n",
              "      <td>2</td>\n",
              "    </tr>\n",
              "    <tr>\n",
              "      <th>268407</th>\n",
              "      <td>18287.0</td>\n",
              "      <td>85040A</td>\n",
              "      <td>S/4 PINK FLOWER CANDLES IN BOWL</td>\n",
              "      <td>1</td>\n",
              "    </tr>\n",
              "  </tbody>\n",
              "</table>\n",
              "<p>268408 rows × 4 columns</p>\n",
              "</div>"
            ],
            "text/plain": [
              "        CustomerID StockCode                          Description  score\n",
              "0          12346.0     23166       MEDIUM CERAMIC TOP STORAGE JAR      1\n",
              "1          12347.0     16008  SMALL FOLDING SCISSOR(POINTED EDGE)      1\n",
              "2          12347.0     17021               NAMASTE SWAGAT INCENSE      1\n",
              "3          12347.0     20665                 RED RETROSPOT PURSE       1\n",
              "4          12347.0     20719               WOODLAND CHARLOTTE BAG      4\n",
              "...            ...       ...                                  ...    ...\n",
              "268403     18287.0    72351B       SET/6 PINK  BUTTERFLY T-LIGHTS      1\n",
              "268404     18287.0    84507C      BLUE CIRCLES DESIGN MONKEY DOLL      1\n",
              "268405     18287.0    85039A   SET/4 RED MINI ROSE CANDLE IN BOWL      2\n",
              "268406     18287.0    85039B   S/4 IVORY MINI ROSE CANDLE IN BOWL      2\n",
              "268407     18287.0    85040A      S/4 PINK FLOWER CANDLES IN BOWL      1\n",
              "\n",
              "[268408 rows x 4 columns]"
            ]
          },
          "metadata": {
            "tags": []
          },
          "execution_count": 9
        }
      ]
    },
    {
      "cell_type": "code",
      "metadata": {
        "id": "m7aKPaEHY4hU",
        "colab_type": "code",
        "colab": {
          "base_uri": "https://localhost:8080/",
          "height": 266
        },
        "outputId": "fae06d46-5dd6-4b24-a28d-c7e11d73165b"
      },
      "source": [
        "recData.info"
      ],
      "execution_count": null,
      "outputs": [
        {
          "output_type": "execute_result",
          "data": {
            "text/plain": [
              "<bound method DataFrame.info of         CustomerID StockCode                          Description  score\n",
              "0          12346.0     23166       MEDIUM CERAMIC TOP STORAGE JAR      1\n",
              "1          12347.0     16008  SMALL FOLDING SCISSOR(POINTED EDGE)      1\n",
              "2          12347.0     17021               NAMASTE SWAGAT INCENSE      1\n",
              "3          12347.0     20665                 RED RETROSPOT PURSE       1\n",
              "4          12347.0     20719               WOODLAND CHARLOTTE BAG      4\n",
              "...            ...       ...                                  ...    ...\n",
              "268403     18287.0    72351B       SET/6 PINK  BUTTERFLY T-LIGHTS      1\n",
              "268404     18287.0    84507C      BLUE CIRCLES DESIGN MONKEY DOLL      1\n",
              "268405     18287.0    85039A   SET/4 RED MINI ROSE CANDLE IN BOWL      2\n",
              "268406     18287.0    85039B   S/4 IVORY MINI ROSE CANDLE IN BOWL      2\n",
              "268407     18287.0    85040A      S/4 PINK FLOWER CANDLES IN BOWL      1\n",
              "\n",
              "[268408 rows x 4 columns]>"
            ]
          },
          "metadata": {
            "tags": []
          },
          "execution_count": 10
        }
      ]
    },
    {
      "cell_type": "code",
      "metadata": {
        "id": "bhSsf5rQnAb0",
        "colab_type": "code",
        "colab": {}
      },
      "source": [
        "# we generate the pivot data to produce a utility matrix which will be further factorized based on its features like sparsity etc.\n",
        "# in our pivot table we give the values to be the score that is the number of units the customer has purchased per item. \n",
        "#this will let us the interest of the customer on the item purcahsed\n",
        "pivotData = pd.pivot_table(recData, values = 'score', index = 'CustomerID', columns = 'Description', aggfunc = np.sum)"
      ],
      "execution_count": null,
      "outputs": []
    },
    {
      "cell_type": "code",
      "metadata": {
        "id": "waasXxMOBgZj",
        "colab_type": "code",
        "colab": {}
      },
      "source": [
        ""
      ],
      "execution_count": null,
      "outputs": []
    },
    {
      "cell_type": "code",
      "metadata": {
        "id": "WflxLYZvn_iY",
        "colab_type": "code",
        "colab": {
          "base_uri": "https://localhost:8080/",
          "height": 284
        },
        "outputId": "0adff681-7bff-4f1a-92d1-7bd021ae784f"
      },
      "source": [
        "\n",
        "print(pivotData)\n"
      ],
      "execution_count": null,
      "outputs": [
        {
          "output_type": "stream",
          "text": [
            "Description   4 PURPLE FLOCK DINNER CANDLES  ...  ZINC WIRE SWEETHEART LETTER TRAY\n",
            "CustomerID                                   ...                                  \n",
            "12346.0                                 NaN  ...                               NaN\n",
            "12347.0                                 NaN  ...                               NaN\n",
            "12348.0                                 NaN  ...                               NaN\n",
            "12349.0                                 NaN  ...                               NaN\n",
            "12350.0                                 NaN  ...                               NaN\n",
            "...                                     ...  ...                               ...\n",
            "18280.0                                 NaN  ...                               NaN\n",
            "18281.0                                 NaN  ...                               NaN\n",
            "18282.0                                 NaN  ...                               NaN\n",
            "18283.0                                 NaN  ...                               NaN\n",
            "18287.0                                 NaN  ...                               NaN\n",
            "\n",
            "[4339 rows x 3877 columns]\n"
          ],
          "name": "stdout"
        }
      ]
    },
    {
      "cell_type": "code",
      "metadata": {
        "id": "ufUVbbtxoKed",
        "colab_type": "code",
        "colab": {
          "base_uri": "https://localhost:8080/",
          "height": 52
        },
        "outputId": "0bed9594-2562-427d-9b2d-cafa6953070a"
      },
      "source": [
        "#numpy.ma.masked_invalid is a function which masks all the invalid data from the pivot table. invalid data comprises data with Nan's,infs etc. \\\n",
        "#and then we compress the data. \n",
        "# to find the sparsity in the pivot table we use the following formula.\n",
        "masked = np.ma.masked_invalid(pivotData)\n",
        "mc = masked.compressed()\n",
        "a = (1 - mc.shape[0]/np.prod(pivotData.shape))\n",
        "print(\"sparsity is:\", a*100, \"%\")\n",
        "print(mc)\n"
      ],
      "execution_count": null,
      "outputs": [
        {
          "output_type": "stream",
          "text": [
            "sparsity is: 98.40512324620475 %\n",
            "[1. 5. 1. ... 1. 2. 1.]\n"
          ],
          "name": "stdout"
        }
      ]
    },
    {
      "cell_type": "code",
      "metadata": {
        "id": "QL8j8tFDt41L",
        "colab_type": "code",
        "colab": {
          "base_uri": "https://localhost:8080/",
          "height": 533
        },
        "outputId": "8a48fe3e-5081-4dc2-d369-981b3e72e957"
      },
      "source": [
        "pivotData = pivotData.fillna(0)\n",
        "pivotData"
      ],
      "execution_count": null,
      "outputs": [
        {
          "output_type": "execute_result",
          "data": {
            "text/html": [
              "<div>\n",
              "<style scoped>\n",
              "    .dataframe tbody tr th:only-of-type {\n",
              "        vertical-align: middle;\n",
              "    }\n",
              "\n",
              "    .dataframe tbody tr th {\n",
              "        vertical-align: top;\n",
              "    }\n",
              "\n",
              "    .dataframe thead th {\n",
              "        text-align: right;\n",
              "    }\n",
              "</style>\n",
              "<table border=\"1\" class=\"dataframe\">\n",
              "  <thead>\n",
              "    <tr style=\"text-align: right;\">\n",
              "      <th>Description</th>\n",
              "      <th>4 PURPLE FLOCK DINNER CANDLES</th>\n",
              "      <th>50'S CHRISTMAS GIFT BAG LARGE</th>\n",
              "      <th>DOLLY GIRL BEAKER</th>\n",
              "      <th>I LOVE LONDON MINI BACKPACK</th>\n",
              "      <th>I LOVE LONDON MINI RUCKSACK</th>\n",
              "      <th>NINE DRAWER OFFICE TIDY</th>\n",
              "      <th>OVAL WALL MIRROR DIAMANTE</th>\n",
              "      <th>RED SPOT GIFT BAG LARGE</th>\n",
              "      <th>SET 2 TEA TOWELS I LOVE LONDON</th>\n",
              "      <th>SPACEBOY BABY GIFT SET</th>\n",
              "      <th>TOADSTOOL BEDSIDE LIGHT</th>\n",
              "      <th>TRELLIS COAT RACK</th>\n",
              "      <th>10 COLOUR SPACEBOY PEN</th>\n",
              "      <th>12 COLOURED PARTY BALLOONS</th>\n",
              "      <th>12 DAISY PEGS IN WOOD BOX</th>\n",
              "      <th>12 EGG HOUSE PAINTED WOOD</th>\n",
              "      <th>12 HANGING EGGS HAND PAINTED</th>\n",
              "      <th>12 IVORY ROSE PEG PLACE SETTINGS</th>\n",
              "      <th>12 MESSAGE CARDS WITH ENVELOPES</th>\n",
              "      <th>12 PENCIL SMALL TUBE WOODLAND</th>\n",
              "      <th>12 PENCILS SMALL TUBE RED RETROSPOT</th>\n",
              "      <th>12 PENCILS SMALL TUBE SKULL</th>\n",
              "      <th>12 PENCILS TALL TUBE POSY</th>\n",
              "      <th>12 PENCILS TALL TUBE RED RETROSPOT</th>\n",
              "      <th>12 PENCILS TALL TUBE SKULLS</th>\n",
              "      <th>12 PENCILS TALL TUBE WOODLAND</th>\n",
              "      <th>12 PINK HEN+CHICKS IN BASKET</th>\n",
              "      <th>12 PINK ROSE PEG PLACE SETTINGS</th>\n",
              "      <th>12 RED ROSE PEG PLACE SETTINGS</th>\n",
              "      <th>15 PINK FLUFFY CHICKS IN BOX</th>\n",
              "      <th>15CM CHRISTMAS GLASS BALL 20 LIGHTS</th>\n",
              "      <th>16 PC CUTLERY SET PANTRY DESIGN</th>\n",
              "      <th>16 PIECE CUTLERY SET PANTRY DESIGN</th>\n",
              "      <th>18PC WOODEN CUTLERY SET DISPOSABLE</th>\n",
              "      <th>2 DAISIES HAIR COMB</th>\n",
              "      <th>2 PICTURE BOOK EGGS EASTER BUNNY</th>\n",
              "      <th>2 PICTURE BOOK EGGS EASTER CHICKS</th>\n",
              "      <th>2 PICTURE BOOK EGGS EASTER DUCKS</th>\n",
              "      <th>20 DOLLY PEGS RETROSPOT</th>\n",
              "      <th>200 BENDY SKULL STRAWS</th>\n",
              "      <th>...</th>\n",
              "      <th>YELLOW DRAGONFLY HELICOPTER</th>\n",
              "      <th>YELLOW EASTER EGG HUNT START POST</th>\n",
              "      <th>YELLOW FELT HANGING HEART W FLOWER</th>\n",
              "      <th>YELLOW FLOWERS FELT HANDBAG KIT</th>\n",
              "      <th>YELLOW GIANT GARDEN THERMOMETER</th>\n",
              "      <th>YELLOW METAL CHICKEN HEART</th>\n",
              "      <th>YELLOW PINK FLOWER DESIGN BIG BOWL</th>\n",
              "      <th>YELLOW POT PLANT CANDLE</th>\n",
              "      <th>YELLOW SHARK HELICOPTER</th>\n",
              "      <th>YELLOW/BLUE RETRO RADIO</th>\n",
              "      <th>YELLOW/ORANGE FLOWER DESIGN PLATE</th>\n",
              "      <th>YELLOW/PINK FLOWER DESIGN BIG MUG</th>\n",
              "      <th>YOU'RE CONFUSING ME METAL SIGN</th>\n",
              "      <th>YULETIDE IMAGES GIFT WRAP SET</th>\n",
              "      <th>YULETIDE IMAGES S/6 PAPER BOXES</th>\n",
              "      <th>ZINC  HEART T-LIGHT HOLDER</th>\n",
              "      <th>ZINC  STAR T-LIGHT HOLDER</th>\n",
              "      <th>ZINC BOX SIGN HOME</th>\n",
              "      <th>ZINC FINISH 15CM PLANTER POTS</th>\n",
              "      <th>ZINC FOLKART SLEIGH BELLS</th>\n",
              "      <th>ZINC HEART FLOWER T-LIGHT HOLDER</th>\n",
              "      <th>ZINC HEART LATTICE 2 WALL PLANTER</th>\n",
              "      <th>ZINC HEART LATTICE CHARGER LARGE</th>\n",
              "      <th>ZINC HEART LATTICE CHARGER SMALL</th>\n",
              "      <th>ZINC HEART LATTICE T-LIGHT HOLDER</th>\n",
              "      <th>ZINC HEART LATTICE TRAY OVAL</th>\n",
              "      <th>ZINC HEARTS PLANT POT HOLDER</th>\n",
              "      <th>ZINC HERB GARDEN CONTAINER</th>\n",
              "      <th>ZINC METAL HEART DECORATION</th>\n",
              "      <th>ZINC PLANT POT HOLDER</th>\n",
              "      <th>ZINC STAR T-LIGHT HOLDER</th>\n",
              "      <th>ZINC SWEETHEART SOAP DISH</th>\n",
              "      <th>ZINC SWEETHEART WIRE LETTER RACK</th>\n",
              "      <th>ZINC T-LIGHT HOLDER STAR LARGE</th>\n",
              "      <th>ZINC T-LIGHT HOLDER STARS LARGE</th>\n",
              "      <th>ZINC T-LIGHT HOLDER STARS SMALL</th>\n",
              "      <th>ZINC TOP  2 DOOR WOODEN SHELF</th>\n",
              "      <th>ZINC WILLIE WINKIE  CANDLE STICK</th>\n",
              "      <th>ZINC WIRE KITCHEN ORGANISER</th>\n",
              "      <th>ZINC WIRE SWEETHEART LETTER TRAY</th>\n",
              "    </tr>\n",
              "    <tr>\n",
              "      <th>CustomerID</th>\n",
              "      <th></th>\n",
              "      <th></th>\n",
              "      <th></th>\n",
              "      <th></th>\n",
              "      <th></th>\n",
              "      <th></th>\n",
              "      <th></th>\n",
              "      <th></th>\n",
              "      <th></th>\n",
              "      <th></th>\n",
              "      <th></th>\n",
              "      <th></th>\n",
              "      <th></th>\n",
              "      <th></th>\n",
              "      <th></th>\n",
              "      <th></th>\n",
              "      <th></th>\n",
              "      <th></th>\n",
              "      <th></th>\n",
              "      <th></th>\n",
              "      <th></th>\n",
              "      <th></th>\n",
              "      <th></th>\n",
              "      <th></th>\n",
              "      <th></th>\n",
              "      <th></th>\n",
              "      <th></th>\n",
              "      <th></th>\n",
              "      <th></th>\n",
              "      <th></th>\n",
              "      <th></th>\n",
              "      <th></th>\n",
              "      <th></th>\n",
              "      <th></th>\n",
              "      <th></th>\n",
              "      <th></th>\n",
              "      <th></th>\n",
              "      <th></th>\n",
              "      <th></th>\n",
              "      <th></th>\n",
              "      <th></th>\n",
              "      <th></th>\n",
              "      <th></th>\n",
              "      <th></th>\n",
              "      <th></th>\n",
              "      <th></th>\n",
              "      <th></th>\n",
              "      <th></th>\n",
              "      <th></th>\n",
              "      <th></th>\n",
              "      <th></th>\n",
              "      <th></th>\n",
              "      <th></th>\n",
              "      <th></th>\n",
              "      <th></th>\n",
              "      <th></th>\n",
              "      <th></th>\n",
              "      <th></th>\n",
              "      <th></th>\n",
              "      <th></th>\n",
              "      <th></th>\n",
              "      <th></th>\n",
              "      <th></th>\n",
              "      <th></th>\n",
              "      <th></th>\n",
              "      <th></th>\n",
              "      <th></th>\n",
              "      <th></th>\n",
              "      <th></th>\n",
              "      <th></th>\n",
              "      <th></th>\n",
              "      <th></th>\n",
              "      <th></th>\n",
              "      <th></th>\n",
              "      <th></th>\n",
              "      <th></th>\n",
              "      <th></th>\n",
              "      <th></th>\n",
              "      <th></th>\n",
              "      <th></th>\n",
              "      <th></th>\n",
              "    </tr>\n",
              "  </thead>\n",
              "  <tbody>\n",
              "    <tr>\n",
              "      <th>12346.0</th>\n",
              "      <td>0.0</td>\n",
              "      <td>0.0</td>\n",
              "      <td>0.0</td>\n",
              "      <td>0.0</td>\n",
              "      <td>0.0</td>\n",
              "      <td>0.0</td>\n",
              "      <td>0.0</td>\n",
              "      <td>0.0</td>\n",
              "      <td>0.0</td>\n",
              "      <td>0.0</td>\n",
              "      <td>0.0</td>\n",
              "      <td>0.0</td>\n",
              "      <td>0.0</td>\n",
              "      <td>0.0</td>\n",
              "      <td>0.0</td>\n",
              "      <td>0.0</td>\n",
              "      <td>0.0</td>\n",
              "      <td>0.0</td>\n",
              "      <td>0.0</td>\n",
              "      <td>0.0</td>\n",
              "      <td>0.0</td>\n",
              "      <td>0.0</td>\n",
              "      <td>0.0</td>\n",
              "      <td>0.0</td>\n",
              "      <td>0.0</td>\n",
              "      <td>0.0</td>\n",
              "      <td>0.0</td>\n",
              "      <td>0.0</td>\n",
              "      <td>0.0</td>\n",
              "      <td>0.0</td>\n",
              "      <td>0.0</td>\n",
              "      <td>0.0</td>\n",
              "      <td>0.0</td>\n",
              "      <td>0.0</td>\n",
              "      <td>0.0</td>\n",
              "      <td>0.0</td>\n",
              "      <td>0.0</td>\n",
              "      <td>0.0</td>\n",
              "      <td>0.0</td>\n",
              "      <td>0.0</td>\n",
              "      <td>...</td>\n",
              "      <td>0.0</td>\n",
              "      <td>0.0</td>\n",
              "      <td>0.0</td>\n",
              "      <td>0.0</td>\n",
              "      <td>0.0</td>\n",
              "      <td>0.0</td>\n",
              "      <td>0.0</td>\n",
              "      <td>0.0</td>\n",
              "      <td>0.0</td>\n",
              "      <td>0.0</td>\n",
              "      <td>0.0</td>\n",
              "      <td>0.0</td>\n",
              "      <td>0.0</td>\n",
              "      <td>0.0</td>\n",
              "      <td>0.0</td>\n",
              "      <td>0.0</td>\n",
              "      <td>0.0</td>\n",
              "      <td>0.0</td>\n",
              "      <td>0.0</td>\n",
              "      <td>0.0</td>\n",
              "      <td>0.0</td>\n",
              "      <td>0.0</td>\n",
              "      <td>0.0</td>\n",
              "      <td>0.0</td>\n",
              "      <td>0.0</td>\n",
              "      <td>0.0</td>\n",
              "      <td>0.0</td>\n",
              "      <td>0.0</td>\n",
              "      <td>0.0</td>\n",
              "      <td>0.0</td>\n",
              "      <td>0.0</td>\n",
              "      <td>0.0</td>\n",
              "      <td>0.0</td>\n",
              "      <td>0.0</td>\n",
              "      <td>0.0</td>\n",
              "      <td>0.0</td>\n",
              "      <td>0.0</td>\n",
              "      <td>0.0</td>\n",
              "      <td>0.0</td>\n",
              "      <td>0.0</td>\n",
              "    </tr>\n",
              "    <tr>\n",
              "      <th>12347.0</th>\n",
              "      <td>0.0</td>\n",
              "      <td>0.0</td>\n",
              "      <td>0.0</td>\n",
              "      <td>0.0</td>\n",
              "      <td>0.0</td>\n",
              "      <td>0.0</td>\n",
              "      <td>0.0</td>\n",
              "      <td>0.0</td>\n",
              "      <td>0.0</td>\n",
              "      <td>0.0</td>\n",
              "      <td>0.0</td>\n",
              "      <td>0.0</td>\n",
              "      <td>0.0</td>\n",
              "      <td>0.0</td>\n",
              "      <td>0.0</td>\n",
              "      <td>0.0</td>\n",
              "      <td>0.0</td>\n",
              "      <td>0.0</td>\n",
              "      <td>0.0</td>\n",
              "      <td>0.0</td>\n",
              "      <td>0.0</td>\n",
              "      <td>0.0</td>\n",
              "      <td>0.0</td>\n",
              "      <td>0.0</td>\n",
              "      <td>0.0</td>\n",
              "      <td>0.0</td>\n",
              "      <td>0.0</td>\n",
              "      <td>0.0</td>\n",
              "      <td>0.0</td>\n",
              "      <td>0.0</td>\n",
              "      <td>0.0</td>\n",
              "      <td>0.0</td>\n",
              "      <td>0.0</td>\n",
              "      <td>0.0</td>\n",
              "      <td>0.0</td>\n",
              "      <td>0.0</td>\n",
              "      <td>0.0</td>\n",
              "      <td>0.0</td>\n",
              "      <td>0.0</td>\n",
              "      <td>0.0</td>\n",
              "      <td>...</td>\n",
              "      <td>0.0</td>\n",
              "      <td>0.0</td>\n",
              "      <td>0.0</td>\n",
              "      <td>0.0</td>\n",
              "      <td>0.0</td>\n",
              "      <td>0.0</td>\n",
              "      <td>0.0</td>\n",
              "      <td>0.0</td>\n",
              "      <td>0.0</td>\n",
              "      <td>0.0</td>\n",
              "      <td>0.0</td>\n",
              "      <td>0.0</td>\n",
              "      <td>0.0</td>\n",
              "      <td>0.0</td>\n",
              "      <td>0.0</td>\n",
              "      <td>0.0</td>\n",
              "      <td>0.0</td>\n",
              "      <td>0.0</td>\n",
              "      <td>0.0</td>\n",
              "      <td>0.0</td>\n",
              "      <td>0.0</td>\n",
              "      <td>0.0</td>\n",
              "      <td>0.0</td>\n",
              "      <td>0.0</td>\n",
              "      <td>0.0</td>\n",
              "      <td>0.0</td>\n",
              "      <td>0.0</td>\n",
              "      <td>0.0</td>\n",
              "      <td>0.0</td>\n",
              "      <td>0.0</td>\n",
              "      <td>0.0</td>\n",
              "      <td>0.0</td>\n",
              "      <td>0.0</td>\n",
              "      <td>0.0</td>\n",
              "      <td>0.0</td>\n",
              "      <td>0.0</td>\n",
              "      <td>0.0</td>\n",
              "      <td>0.0</td>\n",
              "      <td>0.0</td>\n",
              "      <td>0.0</td>\n",
              "    </tr>\n",
              "    <tr>\n",
              "      <th>12348.0</th>\n",
              "      <td>0.0</td>\n",
              "      <td>0.0</td>\n",
              "      <td>0.0</td>\n",
              "      <td>0.0</td>\n",
              "      <td>0.0</td>\n",
              "      <td>0.0</td>\n",
              "      <td>0.0</td>\n",
              "      <td>0.0</td>\n",
              "      <td>0.0</td>\n",
              "      <td>0.0</td>\n",
              "      <td>0.0</td>\n",
              "      <td>0.0</td>\n",
              "      <td>0.0</td>\n",
              "      <td>0.0</td>\n",
              "      <td>0.0</td>\n",
              "      <td>0.0</td>\n",
              "      <td>0.0</td>\n",
              "      <td>0.0</td>\n",
              "      <td>0.0</td>\n",
              "      <td>0.0</td>\n",
              "      <td>0.0</td>\n",
              "      <td>0.0</td>\n",
              "      <td>0.0</td>\n",
              "      <td>0.0</td>\n",
              "      <td>0.0</td>\n",
              "      <td>0.0</td>\n",
              "      <td>0.0</td>\n",
              "      <td>0.0</td>\n",
              "      <td>0.0</td>\n",
              "      <td>0.0</td>\n",
              "      <td>0.0</td>\n",
              "      <td>0.0</td>\n",
              "      <td>0.0</td>\n",
              "      <td>0.0</td>\n",
              "      <td>0.0</td>\n",
              "      <td>0.0</td>\n",
              "      <td>0.0</td>\n",
              "      <td>0.0</td>\n",
              "      <td>0.0</td>\n",
              "      <td>0.0</td>\n",
              "      <td>...</td>\n",
              "      <td>0.0</td>\n",
              "      <td>0.0</td>\n",
              "      <td>0.0</td>\n",
              "      <td>0.0</td>\n",
              "      <td>0.0</td>\n",
              "      <td>0.0</td>\n",
              "      <td>0.0</td>\n",
              "      <td>0.0</td>\n",
              "      <td>0.0</td>\n",
              "      <td>0.0</td>\n",
              "      <td>0.0</td>\n",
              "      <td>0.0</td>\n",
              "      <td>0.0</td>\n",
              "      <td>0.0</td>\n",
              "      <td>0.0</td>\n",
              "      <td>0.0</td>\n",
              "      <td>0.0</td>\n",
              "      <td>0.0</td>\n",
              "      <td>0.0</td>\n",
              "      <td>0.0</td>\n",
              "      <td>0.0</td>\n",
              "      <td>0.0</td>\n",
              "      <td>0.0</td>\n",
              "      <td>0.0</td>\n",
              "      <td>0.0</td>\n",
              "      <td>0.0</td>\n",
              "      <td>0.0</td>\n",
              "      <td>0.0</td>\n",
              "      <td>0.0</td>\n",
              "      <td>0.0</td>\n",
              "      <td>0.0</td>\n",
              "      <td>0.0</td>\n",
              "      <td>0.0</td>\n",
              "      <td>0.0</td>\n",
              "      <td>0.0</td>\n",
              "      <td>0.0</td>\n",
              "      <td>0.0</td>\n",
              "      <td>0.0</td>\n",
              "      <td>0.0</td>\n",
              "      <td>0.0</td>\n",
              "    </tr>\n",
              "    <tr>\n",
              "      <th>12349.0</th>\n",
              "      <td>0.0</td>\n",
              "      <td>0.0</td>\n",
              "      <td>0.0</td>\n",
              "      <td>0.0</td>\n",
              "      <td>0.0</td>\n",
              "      <td>0.0</td>\n",
              "      <td>0.0</td>\n",
              "      <td>0.0</td>\n",
              "      <td>0.0</td>\n",
              "      <td>0.0</td>\n",
              "      <td>0.0</td>\n",
              "      <td>0.0</td>\n",
              "      <td>0.0</td>\n",
              "      <td>0.0</td>\n",
              "      <td>0.0</td>\n",
              "      <td>0.0</td>\n",
              "      <td>0.0</td>\n",
              "      <td>0.0</td>\n",
              "      <td>0.0</td>\n",
              "      <td>0.0</td>\n",
              "      <td>0.0</td>\n",
              "      <td>0.0</td>\n",
              "      <td>0.0</td>\n",
              "      <td>0.0</td>\n",
              "      <td>0.0</td>\n",
              "      <td>0.0</td>\n",
              "      <td>0.0</td>\n",
              "      <td>0.0</td>\n",
              "      <td>0.0</td>\n",
              "      <td>0.0</td>\n",
              "      <td>0.0</td>\n",
              "      <td>0.0</td>\n",
              "      <td>1.0</td>\n",
              "      <td>0.0</td>\n",
              "      <td>0.0</td>\n",
              "      <td>0.0</td>\n",
              "      <td>0.0</td>\n",
              "      <td>0.0</td>\n",
              "      <td>1.0</td>\n",
              "      <td>0.0</td>\n",
              "      <td>...</td>\n",
              "      <td>0.0</td>\n",
              "      <td>0.0</td>\n",
              "      <td>0.0</td>\n",
              "      <td>0.0</td>\n",
              "      <td>0.0</td>\n",
              "      <td>0.0</td>\n",
              "      <td>0.0</td>\n",
              "      <td>0.0</td>\n",
              "      <td>0.0</td>\n",
              "      <td>0.0</td>\n",
              "      <td>0.0</td>\n",
              "      <td>0.0</td>\n",
              "      <td>0.0</td>\n",
              "      <td>0.0</td>\n",
              "      <td>0.0</td>\n",
              "      <td>0.0</td>\n",
              "      <td>0.0</td>\n",
              "      <td>0.0</td>\n",
              "      <td>0.0</td>\n",
              "      <td>1.0</td>\n",
              "      <td>0.0</td>\n",
              "      <td>0.0</td>\n",
              "      <td>0.0</td>\n",
              "      <td>0.0</td>\n",
              "      <td>0.0</td>\n",
              "      <td>0.0</td>\n",
              "      <td>0.0</td>\n",
              "      <td>0.0</td>\n",
              "      <td>0.0</td>\n",
              "      <td>0.0</td>\n",
              "      <td>0.0</td>\n",
              "      <td>0.0</td>\n",
              "      <td>0.0</td>\n",
              "      <td>0.0</td>\n",
              "      <td>0.0</td>\n",
              "      <td>0.0</td>\n",
              "      <td>0.0</td>\n",
              "      <td>0.0</td>\n",
              "      <td>0.0</td>\n",
              "      <td>0.0</td>\n",
              "    </tr>\n",
              "    <tr>\n",
              "      <th>12350.0</th>\n",
              "      <td>0.0</td>\n",
              "      <td>0.0</td>\n",
              "      <td>0.0</td>\n",
              "      <td>0.0</td>\n",
              "      <td>0.0</td>\n",
              "      <td>0.0</td>\n",
              "      <td>0.0</td>\n",
              "      <td>0.0</td>\n",
              "      <td>0.0</td>\n",
              "      <td>0.0</td>\n",
              "      <td>0.0</td>\n",
              "      <td>0.0</td>\n",
              "      <td>0.0</td>\n",
              "      <td>0.0</td>\n",
              "      <td>0.0</td>\n",
              "      <td>0.0</td>\n",
              "      <td>0.0</td>\n",
              "      <td>0.0</td>\n",
              "      <td>0.0</td>\n",
              "      <td>0.0</td>\n",
              "      <td>0.0</td>\n",
              "      <td>0.0</td>\n",
              "      <td>0.0</td>\n",
              "      <td>0.0</td>\n",
              "      <td>0.0</td>\n",
              "      <td>0.0</td>\n",
              "      <td>0.0</td>\n",
              "      <td>0.0</td>\n",
              "      <td>0.0</td>\n",
              "      <td>0.0</td>\n",
              "      <td>0.0</td>\n",
              "      <td>0.0</td>\n",
              "      <td>0.0</td>\n",
              "      <td>0.0</td>\n",
              "      <td>0.0</td>\n",
              "      <td>0.0</td>\n",
              "      <td>0.0</td>\n",
              "      <td>0.0</td>\n",
              "      <td>0.0</td>\n",
              "      <td>0.0</td>\n",
              "      <td>...</td>\n",
              "      <td>0.0</td>\n",
              "      <td>0.0</td>\n",
              "      <td>0.0</td>\n",
              "      <td>0.0</td>\n",
              "      <td>0.0</td>\n",
              "      <td>0.0</td>\n",
              "      <td>0.0</td>\n",
              "      <td>0.0</td>\n",
              "      <td>0.0</td>\n",
              "      <td>0.0</td>\n",
              "      <td>0.0</td>\n",
              "      <td>0.0</td>\n",
              "      <td>0.0</td>\n",
              "      <td>0.0</td>\n",
              "      <td>0.0</td>\n",
              "      <td>0.0</td>\n",
              "      <td>0.0</td>\n",
              "      <td>0.0</td>\n",
              "      <td>0.0</td>\n",
              "      <td>0.0</td>\n",
              "      <td>0.0</td>\n",
              "      <td>0.0</td>\n",
              "      <td>0.0</td>\n",
              "      <td>0.0</td>\n",
              "      <td>0.0</td>\n",
              "      <td>0.0</td>\n",
              "      <td>0.0</td>\n",
              "      <td>0.0</td>\n",
              "      <td>0.0</td>\n",
              "      <td>0.0</td>\n",
              "      <td>0.0</td>\n",
              "      <td>0.0</td>\n",
              "      <td>0.0</td>\n",
              "      <td>0.0</td>\n",
              "      <td>0.0</td>\n",
              "      <td>0.0</td>\n",
              "      <td>0.0</td>\n",
              "      <td>0.0</td>\n",
              "      <td>0.0</td>\n",
              "      <td>0.0</td>\n",
              "    </tr>\n",
              "    <tr>\n",
              "      <th>...</th>\n",
              "      <td>...</td>\n",
              "      <td>...</td>\n",
              "      <td>...</td>\n",
              "      <td>...</td>\n",
              "      <td>...</td>\n",
              "      <td>...</td>\n",
              "      <td>...</td>\n",
              "      <td>...</td>\n",
              "      <td>...</td>\n",
              "      <td>...</td>\n",
              "      <td>...</td>\n",
              "      <td>...</td>\n",
              "      <td>...</td>\n",
              "      <td>...</td>\n",
              "      <td>...</td>\n",
              "      <td>...</td>\n",
              "      <td>...</td>\n",
              "      <td>...</td>\n",
              "      <td>...</td>\n",
              "      <td>...</td>\n",
              "      <td>...</td>\n",
              "      <td>...</td>\n",
              "      <td>...</td>\n",
              "      <td>...</td>\n",
              "      <td>...</td>\n",
              "      <td>...</td>\n",
              "      <td>...</td>\n",
              "      <td>...</td>\n",
              "      <td>...</td>\n",
              "      <td>...</td>\n",
              "      <td>...</td>\n",
              "      <td>...</td>\n",
              "      <td>...</td>\n",
              "      <td>...</td>\n",
              "      <td>...</td>\n",
              "      <td>...</td>\n",
              "      <td>...</td>\n",
              "      <td>...</td>\n",
              "      <td>...</td>\n",
              "      <td>...</td>\n",
              "      <td>...</td>\n",
              "      <td>...</td>\n",
              "      <td>...</td>\n",
              "      <td>...</td>\n",
              "      <td>...</td>\n",
              "      <td>...</td>\n",
              "      <td>...</td>\n",
              "      <td>...</td>\n",
              "      <td>...</td>\n",
              "      <td>...</td>\n",
              "      <td>...</td>\n",
              "      <td>...</td>\n",
              "      <td>...</td>\n",
              "      <td>...</td>\n",
              "      <td>...</td>\n",
              "      <td>...</td>\n",
              "      <td>...</td>\n",
              "      <td>...</td>\n",
              "      <td>...</td>\n",
              "      <td>...</td>\n",
              "      <td>...</td>\n",
              "      <td>...</td>\n",
              "      <td>...</td>\n",
              "      <td>...</td>\n",
              "      <td>...</td>\n",
              "      <td>...</td>\n",
              "      <td>...</td>\n",
              "      <td>...</td>\n",
              "      <td>...</td>\n",
              "      <td>...</td>\n",
              "      <td>...</td>\n",
              "      <td>...</td>\n",
              "      <td>...</td>\n",
              "      <td>...</td>\n",
              "      <td>...</td>\n",
              "      <td>...</td>\n",
              "      <td>...</td>\n",
              "      <td>...</td>\n",
              "      <td>...</td>\n",
              "      <td>...</td>\n",
              "      <td>...</td>\n",
              "    </tr>\n",
              "    <tr>\n",
              "      <th>18280.0</th>\n",
              "      <td>0.0</td>\n",
              "      <td>0.0</td>\n",
              "      <td>0.0</td>\n",
              "      <td>0.0</td>\n",
              "      <td>0.0</td>\n",
              "      <td>0.0</td>\n",
              "      <td>0.0</td>\n",
              "      <td>0.0</td>\n",
              "      <td>0.0</td>\n",
              "      <td>0.0</td>\n",
              "      <td>0.0</td>\n",
              "      <td>0.0</td>\n",
              "      <td>0.0</td>\n",
              "      <td>0.0</td>\n",
              "      <td>0.0</td>\n",
              "      <td>0.0</td>\n",
              "      <td>0.0</td>\n",
              "      <td>0.0</td>\n",
              "      <td>0.0</td>\n",
              "      <td>0.0</td>\n",
              "      <td>0.0</td>\n",
              "      <td>0.0</td>\n",
              "      <td>0.0</td>\n",
              "      <td>0.0</td>\n",
              "      <td>0.0</td>\n",
              "      <td>0.0</td>\n",
              "      <td>0.0</td>\n",
              "      <td>0.0</td>\n",
              "      <td>0.0</td>\n",
              "      <td>0.0</td>\n",
              "      <td>0.0</td>\n",
              "      <td>0.0</td>\n",
              "      <td>0.0</td>\n",
              "      <td>0.0</td>\n",
              "      <td>0.0</td>\n",
              "      <td>0.0</td>\n",
              "      <td>0.0</td>\n",
              "      <td>0.0</td>\n",
              "      <td>0.0</td>\n",
              "      <td>0.0</td>\n",
              "      <td>...</td>\n",
              "      <td>0.0</td>\n",
              "      <td>0.0</td>\n",
              "      <td>0.0</td>\n",
              "      <td>0.0</td>\n",
              "      <td>0.0</td>\n",
              "      <td>0.0</td>\n",
              "      <td>0.0</td>\n",
              "      <td>0.0</td>\n",
              "      <td>0.0</td>\n",
              "      <td>0.0</td>\n",
              "      <td>0.0</td>\n",
              "      <td>0.0</td>\n",
              "      <td>0.0</td>\n",
              "      <td>0.0</td>\n",
              "      <td>0.0</td>\n",
              "      <td>0.0</td>\n",
              "      <td>0.0</td>\n",
              "      <td>0.0</td>\n",
              "      <td>0.0</td>\n",
              "      <td>0.0</td>\n",
              "      <td>0.0</td>\n",
              "      <td>0.0</td>\n",
              "      <td>0.0</td>\n",
              "      <td>0.0</td>\n",
              "      <td>0.0</td>\n",
              "      <td>0.0</td>\n",
              "      <td>0.0</td>\n",
              "      <td>0.0</td>\n",
              "      <td>0.0</td>\n",
              "      <td>0.0</td>\n",
              "      <td>0.0</td>\n",
              "      <td>0.0</td>\n",
              "      <td>0.0</td>\n",
              "      <td>0.0</td>\n",
              "      <td>0.0</td>\n",
              "      <td>0.0</td>\n",
              "      <td>0.0</td>\n",
              "      <td>0.0</td>\n",
              "      <td>0.0</td>\n",
              "      <td>0.0</td>\n",
              "    </tr>\n",
              "    <tr>\n",
              "      <th>18281.0</th>\n",
              "      <td>0.0</td>\n",
              "      <td>0.0</td>\n",
              "      <td>0.0</td>\n",
              "      <td>0.0</td>\n",
              "      <td>0.0</td>\n",
              "      <td>0.0</td>\n",
              "      <td>0.0</td>\n",
              "      <td>0.0</td>\n",
              "      <td>0.0</td>\n",
              "      <td>1.0</td>\n",
              "      <td>0.0</td>\n",
              "      <td>0.0</td>\n",
              "      <td>0.0</td>\n",
              "      <td>0.0</td>\n",
              "      <td>0.0</td>\n",
              "      <td>0.0</td>\n",
              "      <td>0.0</td>\n",
              "      <td>0.0</td>\n",
              "      <td>0.0</td>\n",
              "      <td>0.0</td>\n",
              "      <td>0.0</td>\n",
              "      <td>0.0</td>\n",
              "      <td>0.0</td>\n",
              "      <td>0.0</td>\n",
              "      <td>0.0</td>\n",
              "      <td>0.0</td>\n",
              "      <td>0.0</td>\n",
              "      <td>0.0</td>\n",
              "      <td>0.0</td>\n",
              "      <td>0.0</td>\n",
              "      <td>0.0</td>\n",
              "      <td>0.0</td>\n",
              "      <td>0.0</td>\n",
              "      <td>0.0</td>\n",
              "      <td>0.0</td>\n",
              "      <td>0.0</td>\n",
              "      <td>0.0</td>\n",
              "      <td>0.0</td>\n",
              "      <td>0.0</td>\n",
              "      <td>0.0</td>\n",
              "      <td>...</td>\n",
              "      <td>0.0</td>\n",
              "      <td>0.0</td>\n",
              "      <td>0.0</td>\n",
              "      <td>0.0</td>\n",
              "      <td>0.0</td>\n",
              "      <td>0.0</td>\n",
              "      <td>0.0</td>\n",
              "      <td>0.0</td>\n",
              "      <td>0.0</td>\n",
              "      <td>0.0</td>\n",
              "      <td>0.0</td>\n",
              "      <td>0.0</td>\n",
              "      <td>0.0</td>\n",
              "      <td>0.0</td>\n",
              "      <td>0.0</td>\n",
              "      <td>0.0</td>\n",
              "      <td>0.0</td>\n",
              "      <td>0.0</td>\n",
              "      <td>0.0</td>\n",
              "      <td>0.0</td>\n",
              "      <td>0.0</td>\n",
              "      <td>0.0</td>\n",
              "      <td>0.0</td>\n",
              "      <td>0.0</td>\n",
              "      <td>0.0</td>\n",
              "      <td>0.0</td>\n",
              "      <td>0.0</td>\n",
              "      <td>0.0</td>\n",
              "      <td>0.0</td>\n",
              "      <td>0.0</td>\n",
              "      <td>0.0</td>\n",
              "      <td>0.0</td>\n",
              "      <td>0.0</td>\n",
              "      <td>0.0</td>\n",
              "      <td>0.0</td>\n",
              "      <td>0.0</td>\n",
              "      <td>0.0</td>\n",
              "      <td>0.0</td>\n",
              "      <td>0.0</td>\n",
              "      <td>0.0</td>\n",
              "    </tr>\n",
              "    <tr>\n",
              "      <th>18282.0</th>\n",
              "      <td>0.0</td>\n",
              "      <td>0.0</td>\n",
              "      <td>0.0</td>\n",
              "      <td>0.0</td>\n",
              "      <td>0.0</td>\n",
              "      <td>0.0</td>\n",
              "      <td>0.0</td>\n",
              "      <td>0.0</td>\n",
              "      <td>0.0</td>\n",
              "      <td>0.0</td>\n",
              "      <td>0.0</td>\n",
              "      <td>0.0</td>\n",
              "      <td>0.0</td>\n",
              "      <td>0.0</td>\n",
              "      <td>0.0</td>\n",
              "      <td>0.0</td>\n",
              "      <td>0.0</td>\n",
              "      <td>0.0</td>\n",
              "      <td>0.0</td>\n",
              "      <td>0.0</td>\n",
              "      <td>0.0</td>\n",
              "      <td>0.0</td>\n",
              "      <td>0.0</td>\n",
              "      <td>0.0</td>\n",
              "      <td>0.0</td>\n",
              "      <td>0.0</td>\n",
              "      <td>0.0</td>\n",
              "      <td>0.0</td>\n",
              "      <td>0.0</td>\n",
              "      <td>0.0</td>\n",
              "      <td>0.0</td>\n",
              "      <td>0.0</td>\n",
              "      <td>0.0</td>\n",
              "      <td>0.0</td>\n",
              "      <td>0.0</td>\n",
              "      <td>0.0</td>\n",
              "      <td>0.0</td>\n",
              "      <td>0.0</td>\n",
              "      <td>0.0</td>\n",
              "      <td>0.0</td>\n",
              "      <td>...</td>\n",
              "      <td>0.0</td>\n",
              "      <td>0.0</td>\n",
              "      <td>0.0</td>\n",
              "      <td>0.0</td>\n",
              "      <td>0.0</td>\n",
              "      <td>0.0</td>\n",
              "      <td>0.0</td>\n",
              "      <td>0.0</td>\n",
              "      <td>0.0</td>\n",
              "      <td>0.0</td>\n",
              "      <td>0.0</td>\n",
              "      <td>0.0</td>\n",
              "      <td>0.0</td>\n",
              "      <td>0.0</td>\n",
              "      <td>0.0</td>\n",
              "      <td>0.0</td>\n",
              "      <td>0.0</td>\n",
              "      <td>0.0</td>\n",
              "      <td>0.0</td>\n",
              "      <td>0.0</td>\n",
              "      <td>0.0</td>\n",
              "      <td>0.0</td>\n",
              "      <td>0.0</td>\n",
              "      <td>0.0</td>\n",
              "      <td>0.0</td>\n",
              "      <td>0.0</td>\n",
              "      <td>0.0</td>\n",
              "      <td>0.0</td>\n",
              "      <td>0.0</td>\n",
              "      <td>0.0</td>\n",
              "      <td>0.0</td>\n",
              "      <td>0.0</td>\n",
              "      <td>0.0</td>\n",
              "      <td>0.0</td>\n",
              "      <td>0.0</td>\n",
              "      <td>0.0</td>\n",
              "      <td>0.0</td>\n",
              "      <td>0.0</td>\n",
              "      <td>0.0</td>\n",
              "      <td>0.0</td>\n",
              "    </tr>\n",
              "    <tr>\n",
              "      <th>18283.0</th>\n",
              "      <td>0.0</td>\n",
              "      <td>0.0</td>\n",
              "      <td>0.0</td>\n",
              "      <td>0.0</td>\n",
              "      <td>0.0</td>\n",
              "      <td>0.0</td>\n",
              "      <td>0.0</td>\n",
              "      <td>1.0</td>\n",
              "      <td>0.0</td>\n",
              "      <td>0.0</td>\n",
              "      <td>0.0</td>\n",
              "      <td>0.0</td>\n",
              "      <td>4.0</td>\n",
              "      <td>0.0</td>\n",
              "      <td>0.0</td>\n",
              "      <td>0.0</td>\n",
              "      <td>0.0</td>\n",
              "      <td>0.0</td>\n",
              "      <td>0.0</td>\n",
              "      <td>1.0</td>\n",
              "      <td>0.0</td>\n",
              "      <td>1.0</td>\n",
              "      <td>0.0</td>\n",
              "      <td>0.0</td>\n",
              "      <td>0.0</td>\n",
              "      <td>0.0</td>\n",
              "      <td>0.0</td>\n",
              "      <td>0.0</td>\n",
              "      <td>0.0</td>\n",
              "      <td>0.0</td>\n",
              "      <td>0.0</td>\n",
              "      <td>0.0</td>\n",
              "      <td>1.0</td>\n",
              "      <td>0.0</td>\n",
              "      <td>0.0</td>\n",
              "      <td>0.0</td>\n",
              "      <td>0.0</td>\n",
              "      <td>0.0</td>\n",
              "      <td>0.0</td>\n",
              "      <td>0.0</td>\n",
              "      <td>...</td>\n",
              "      <td>0.0</td>\n",
              "      <td>0.0</td>\n",
              "      <td>0.0</td>\n",
              "      <td>0.0</td>\n",
              "      <td>0.0</td>\n",
              "      <td>0.0</td>\n",
              "      <td>0.0</td>\n",
              "      <td>0.0</td>\n",
              "      <td>0.0</td>\n",
              "      <td>0.0</td>\n",
              "      <td>0.0</td>\n",
              "      <td>0.0</td>\n",
              "      <td>1.0</td>\n",
              "      <td>0.0</td>\n",
              "      <td>0.0</td>\n",
              "      <td>0.0</td>\n",
              "      <td>0.0</td>\n",
              "      <td>0.0</td>\n",
              "      <td>0.0</td>\n",
              "      <td>1.0</td>\n",
              "      <td>0.0</td>\n",
              "      <td>0.0</td>\n",
              "      <td>0.0</td>\n",
              "      <td>0.0</td>\n",
              "      <td>0.0</td>\n",
              "      <td>0.0</td>\n",
              "      <td>0.0</td>\n",
              "      <td>0.0</td>\n",
              "      <td>0.0</td>\n",
              "      <td>0.0</td>\n",
              "      <td>0.0</td>\n",
              "      <td>0.0</td>\n",
              "      <td>0.0</td>\n",
              "      <td>0.0</td>\n",
              "      <td>0.0</td>\n",
              "      <td>0.0</td>\n",
              "      <td>0.0</td>\n",
              "      <td>0.0</td>\n",
              "      <td>0.0</td>\n",
              "      <td>0.0</td>\n",
              "    </tr>\n",
              "    <tr>\n",
              "      <th>18287.0</th>\n",
              "      <td>0.0</td>\n",
              "      <td>0.0</td>\n",
              "      <td>0.0</td>\n",
              "      <td>0.0</td>\n",
              "      <td>0.0</td>\n",
              "      <td>0.0</td>\n",
              "      <td>0.0</td>\n",
              "      <td>0.0</td>\n",
              "      <td>0.0</td>\n",
              "      <td>0.0</td>\n",
              "      <td>0.0</td>\n",
              "      <td>0.0</td>\n",
              "      <td>0.0</td>\n",
              "      <td>0.0</td>\n",
              "      <td>0.0</td>\n",
              "      <td>0.0</td>\n",
              "      <td>0.0</td>\n",
              "      <td>0.0</td>\n",
              "      <td>0.0</td>\n",
              "      <td>0.0</td>\n",
              "      <td>0.0</td>\n",
              "      <td>0.0</td>\n",
              "      <td>0.0</td>\n",
              "      <td>0.0</td>\n",
              "      <td>0.0</td>\n",
              "      <td>0.0</td>\n",
              "      <td>0.0</td>\n",
              "      <td>0.0</td>\n",
              "      <td>0.0</td>\n",
              "      <td>0.0</td>\n",
              "      <td>0.0</td>\n",
              "      <td>0.0</td>\n",
              "      <td>0.0</td>\n",
              "      <td>0.0</td>\n",
              "      <td>0.0</td>\n",
              "      <td>0.0</td>\n",
              "      <td>0.0</td>\n",
              "      <td>0.0</td>\n",
              "      <td>0.0</td>\n",
              "      <td>0.0</td>\n",
              "      <td>...</td>\n",
              "      <td>0.0</td>\n",
              "      <td>0.0</td>\n",
              "      <td>0.0</td>\n",
              "      <td>0.0</td>\n",
              "      <td>0.0</td>\n",
              "      <td>0.0</td>\n",
              "      <td>0.0</td>\n",
              "      <td>0.0</td>\n",
              "      <td>0.0</td>\n",
              "      <td>0.0</td>\n",
              "      <td>0.0</td>\n",
              "      <td>0.0</td>\n",
              "      <td>0.0</td>\n",
              "      <td>0.0</td>\n",
              "      <td>0.0</td>\n",
              "      <td>0.0</td>\n",
              "      <td>0.0</td>\n",
              "      <td>0.0</td>\n",
              "      <td>0.0</td>\n",
              "      <td>0.0</td>\n",
              "      <td>0.0</td>\n",
              "      <td>0.0</td>\n",
              "      <td>0.0</td>\n",
              "      <td>0.0</td>\n",
              "      <td>0.0</td>\n",
              "      <td>0.0</td>\n",
              "      <td>0.0</td>\n",
              "      <td>0.0</td>\n",
              "      <td>0.0</td>\n",
              "      <td>0.0</td>\n",
              "      <td>0.0</td>\n",
              "      <td>0.0</td>\n",
              "      <td>0.0</td>\n",
              "      <td>0.0</td>\n",
              "      <td>0.0</td>\n",
              "      <td>0.0</td>\n",
              "      <td>0.0</td>\n",
              "      <td>0.0</td>\n",
              "      <td>0.0</td>\n",
              "      <td>0.0</td>\n",
              "    </tr>\n",
              "  </tbody>\n",
              "</table>\n",
              "<p>4339 rows × 3877 columns</p>\n",
              "</div>"
            ],
            "text/plain": [
              "Description   4 PURPLE FLOCK DINNER CANDLES  ...  ZINC WIRE SWEETHEART LETTER TRAY\n",
              "CustomerID                                   ...                                  \n",
              "12346.0                                 0.0  ...                               0.0\n",
              "12347.0                                 0.0  ...                               0.0\n",
              "12348.0                                 0.0  ...                               0.0\n",
              "12349.0                                 0.0  ...                               0.0\n",
              "12350.0                                 0.0  ...                               0.0\n",
              "...                                     ...  ...                               ...\n",
              "18280.0                                 0.0  ...                               0.0\n",
              "18281.0                                 0.0  ...                               0.0\n",
              "18282.0                                 0.0  ...                               0.0\n",
              "18283.0                                 0.0  ...                               0.0\n",
              "18287.0                                 0.0  ...                               0.0\n",
              "\n",
              "[4339 rows x 3877 columns]"
            ]
          },
          "metadata": {
            "tags": []
          },
          "execution_count": 14
        }
      ]
    },
    {
      "cell_type": "code",
      "metadata": {
        "id": "shk-gcdMxs6X",
        "colab_type": "code",
        "colab": {
          "base_uri": "https://localhost:8080/",
          "height": 35
        },
        "outputId": "8d9bd09e-c2c0-4c93-e56d-d1cec55823c3"
      },
      "source": [
        "pivotData.shape"
      ],
      "execution_count": null,
      "outputs": [
        {
          "output_type": "execute_result",
          "data": {
            "text/plain": [
              "(4339, 3877)"
            ]
          },
          "metadata": {
            "tags": []
          },
          "execution_count": 15
        }
      ]
    },
    {
      "cell_type": "code",
      "metadata": {
        "id": "RLh-817SxzG0",
        "colab_type": "code",
        "colab": {
          "base_uri": "https://localhost:8080/",
          "height": 35
        },
        "outputId": "5abbb92d-89e9-4607-b8dd-65b22114e626"
      },
      "source": [
        "X_ = pivotData.values.T\n",
        "np.all(np.isfinite(X_))\n",
        "X_.shape\n"
      ],
      "execution_count": null,
      "outputs": [
        {
          "output_type": "execute_result",
          "data": {
            "text/plain": [
              "(3877, 4339)"
            ]
          },
          "metadata": {
            "tags": []
          },
          "execution_count": 16
        }
      ]
    },
    {
      "cell_type": "code",
      "metadata": {
        "id": "JOjoszZ5KWg1",
        "colab_type": "code",
        "colab": {
          "base_uri": "https://localhost:8080/",
          "height": 284
        },
        "outputId": "d46a22cf-54ab-41bc-ddbd-531330770bd1"
      },
      "source": [
        "T = pivotData.T\n",
        "np.all(np.isfinite(T))\n",
        "print(T)"
      ],
      "execution_count": null,
      "outputs": [
        {
          "output_type": "stream",
          "text": [
            "CustomerID                        12346.0  12347.0  ...  18283.0  18287.0\n",
            "Description                                         ...                  \n",
            " 4 PURPLE FLOCK DINNER CANDLES        0.0      0.0  ...      0.0      0.0\n",
            " 50'S CHRISTMAS GIFT BAG LARGE        0.0      0.0  ...      0.0      0.0\n",
            " DOLLY GIRL BEAKER                    0.0      0.0  ...      0.0      0.0\n",
            " I LOVE LONDON MINI BACKPACK          0.0      0.0  ...      0.0      0.0\n",
            " I LOVE LONDON MINI RUCKSACK          0.0      0.0  ...      0.0      0.0\n",
            "...                                   ...      ...  ...      ...      ...\n",
            "ZINC T-LIGHT HOLDER STARS SMALL       0.0      0.0  ...      0.0      0.0\n",
            "ZINC TOP  2 DOOR WOODEN SHELF         0.0      0.0  ...      0.0      0.0\n",
            "ZINC WILLIE WINKIE  CANDLE STICK      0.0      0.0  ...      0.0      0.0\n",
            "ZINC WIRE KITCHEN ORGANISER           0.0      0.0  ...      0.0      0.0\n",
            "ZINC WIRE SWEETHEART LETTER TRAY      0.0      0.0  ...      0.0      0.0\n",
            "\n",
            "[3877 rows x 4339 columns]\n"
          ],
          "name": "stdout"
        }
      ]
    },
    {
      "cell_type": "code",
      "metadata": {
        "id": "-fmXZKjNFBYr",
        "colab_type": "code",
        "colab": {
          "base_uri": "https://localhost:8080/",
          "height": 248
        },
        "outputId": "09cf241b-b73f-4064-d834-6a4d40def621"
      },
      "source": [
        "from sklearn.preprocessing import StandardScaler\n",
        "standard_data = StandardScaler().fit_transform(X_)\n",
        "standard_data"
      ],
      "execution_count": null,
      "outputs": [
        {
          "output_type": "execute_result",
          "data": {
            "text/plain": [
              "array([[-0.01606231, -0.13880275, -0.06627249, ..., -0.05572061,\n",
              "        -0.19462489, -0.11858898],\n",
              "       [-0.01606231, -0.13880275, -0.06627249, ..., -0.05572061,\n",
              "        -0.19462489, -0.11858898],\n",
              "       [-0.01606231, -0.13880275, -0.06627249, ..., -0.05572061,\n",
              "        -0.19462489, -0.11858898],\n",
              "       ...,\n",
              "       [-0.01606231, -0.13880275, -0.06627249, ..., -0.05572061,\n",
              "        -0.19462489, -0.11858898],\n",
              "       [-0.01606231, -0.13880275, -0.06627249, ..., -0.05572061,\n",
              "        -0.19462489, -0.11858898],\n",
              "       [-0.01606231, -0.13880275, -0.06627249, ..., -0.05572061,\n",
              "        -0.19462489, -0.11858898]])"
            ]
          },
          "metadata": {
            "tags": []
          },
          "execution_count": 18
        }
      ]
    },
    {
      "cell_type": "code",
      "metadata": {
        "id": "YIF-n9-tFDWh",
        "colab_type": "code",
        "colab": {
          "base_uri": "https://localhost:8080/",
          "height": 35
        },
        "outputId": "b4d89816-cde1-4e5d-e141-4138c50a9e25"
      },
      "source": [
        "standard_data.shape"
      ],
      "execution_count": null,
      "outputs": [
        {
          "output_type": "execute_result",
          "data": {
            "text/plain": [
              "(3877, 4339)"
            ]
          },
          "metadata": {
            "tags": []
          },
          "execution_count": 19
        }
      ]
    },
    {
      "cell_type": "code",
      "metadata": {
        "id": "FaIgWP-3G_hI",
        "colab_type": "code",
        "colab": {
          "base_uri": "https://localhost:8080/",
          "height": 746
        },
        "outputId": "e9bda708-7680-4961-d421-107762ad513e"
      },
      "source": [
        "from numpy import zeros\n",
        "from numpy import diag\n",
        "from scipy.linalg import svd\n",
        "#U - is a orthogonal matrix, s- is a diagnol matrix, VT is an orthogonal and  transposed matrix.\n",
        "U,s,VT = svd(standard_data)\n",
        "Sigma = zeros((standard_data.shape[0], standard_data.shape[1]))\n",
        "Sigma[:standard_data.shape[0], :standard_data.shape[0]] = diag(s)\n",
        "n_elements = 10\n",
        "Sigma = Sigma[:, :n_elements]\n",
        "VT = VT[:n_elements, :]\n",
        "B = U.dot(Sigma.dot(VT))\n",
        "print(B)\n",
        "print(\"---------------------------------------------\")\n",
        "T = U.dot(Sigma)\n",
        "print(T)\n",
        "print(\"---------------------------------------------\")\n",
        "T = standard_data.dot(VT.T)\n",
        "print(T)\n"
      ],
      "execution_count": null,
      "outputs": [
        {
          "output_type": "stream",
          "text": [
            "[[-0.01210521 -0.06527048 -0.08100465 ... -0.0140713  -0.19951121\n",
            "  -0.00740916]\n",
            " [-0.00200932  0.03920929  0.00399092 ...  0.00450629 -0.04357017\n",
            "   0.09593092]\n",
            " [-0.01352989  0.28417708  0.17829646 ... -0.01082997  0.35373394\n",
            "  -0.01175366]\n",
            " ...\n",
            " [ 0.01762124 -0.09310763  0.0761613  ...  0.06687664 -0.39172976\n",
            "   0.0144467 ]\n",
            " [-0.00257449 -0.09229174 -0.07216501 ... -0.03819224 -0.2220128\n",
            "  -0.03062086]\n",
            " [-0.00607603 -0.07504295 -0.11669014 ... -0.04716138 -0.18106858\n",
            "  -0.02719578]]\n",
            "---------------------------------------------\n",
            "[[-4.43984505  1.06708654  1.26245359 ... -0.17840442  0.99466976\n",
            "   0.45814904]\n",
            " [ 2.63371286 -0.17391007 -1.53702947 ... -3.8891881   1.62035746\n",
            "  -0.38052925]\n",
            " [ 1.74756298 -5.8214428  -4.14844692 ... -0.50869279 -1.17534161\n",
            "   2.66764865]\n",
            " ...\n",
            " [ 7.19576806  7.81737439 -0.76494797 ... -4.86098412 -1.88013394\n",
            "  -2.99869509]\n",
            " [-6.27965818 -0.09284113  0.39475334 ...  0.31063362 -0.20232051\n",
            "  -0.09467344]\n",
            " [-5.74474751 -0.1561442   1.11865925 ... -0.32532192 -0.48595237\n",
            "   0.31255185]]\n",
            "---------------------------------------------\n",
            "[[-4.43984505  1.06708654  1.26245359 ... -0.17840442  0.99466976\n",
            "   0.45814904]\n",
            " [ 2.63371286 -0.17391007 -1.53702947 ... -3.8891881   1.62035746\n",
            "  -0.38052925]\n",
            " [ 1.74756298 -5.8214428  -4.14844692 ... -0.50869279 -1.17534161\n",
            "   2.66764865]\n",
            " ...\n",
            " [ 7.19576806  7.81737439 -0.76494797 ... -4.86098412 -1.88013394\n",
            "  -2.99869509]\n",
            " [-6.27965818 -0.09284113  0.39475334 ...  0.31063362 -0.20232051\n",
            "  -0.09467344]\n",
            " [-5.74474751 -0.1561442   1.11865925 ... -0.32532192 -0.48595237\n",
            "   0.31255185]]\n"
          ],
          "name": "stdout"
        }
      ]
    },
    {
      "cell_type": "code",
      "metadata": {
        "id": "9UH6XP8IBuVX",
        "colab_type": "code",
        "colab": {
          "base_uri": "https://localhost:8080/",
          "height": 479
        },
        "outputId": "05ee1a82-25f7-477a-914d-0590eb27cf5b"
      },
      "source": [
        "from numpy import array\n",
        "from sklearn.decomposition import TruncatedSVD\n",
        "print(standard_data)\n",
        "# svd\n",
        "svd = TruncatedSVD(n_components=10)\n",
        "svd.fit(standard_data)\n",
        "result = svd.transform(standard_data)\n",
        "print(result)"
      ],
      "execution_count": null,
      "outputs": [
        {
          "output_type": "stream",
          "text": [
            "[[-0.01606231 -0.13880275 -0.06627249 ... -0.05572061 -0.19462489\n",
            "  -0.11858898]\n",
            " [-0.01606231 -0.13880275 -0.06627249 ... -0.05572061 -0.19462489\n",
            "  -0.11858898]\n",
            " [-0.01606231 -0.13880275 -0.06627249 ... -0.05572061 -0.19462489\n",
            "  -0.11858898]\n",
            " ...\n",
            " [-0.01606231 -0.13880275 -0.06627249 ... -0.05572061 -0.19462489\n",
            "  -0.11858898]\n",
            " [-0.01606231 -0.13880275 -0.06627249 ... -0.05572061 -0.19462489\n",
            "  -0.11858898]\n",
            " [-0.01606231 -0.13880275 -0.06627249 ... -0.05572061 -0.19462489\n",
            "  -0.11858898]]\n",
            "[[-4.43982051  1.06570026 -1.25979244 ...  0.10437445  1.06265948\n",
            "   0.4041703 ]\n",
            " [ 2.63365551 -0.17104877  1.52980433 ...  4.0677327   1.68119058\n",
            "  -0.25618996]\n",
            " [ 1.74761169 -5.8229711   4.1633514  ...  0.28342435 -1.04837218\n",
            "   1.75443186]\n",
            " ...\n",
            " [ 7.19573333  7.81997792  0.75016086 ...  5.03385796 -1.91988356\n",
            "  -2.74297515]\n",
            " [-6.27966334 -0.09278609 -0.39628039 ... -0.28580984 -0.16880612\n",
            "  -0.01260818]\n",
            " [-5.74475393 -0.15596241 -1.11937867 ...  0.32837558 -0.48697745\n",
            "   0.32270679]]\n"
          ],
          "name": "stdout"
        }
      ]
    },
    {
      "cell_type": "code",
      "metadata": {
        "id": "XNoM1Db4VGij",
        "colab_type": "code",
        "colab": {
          "base_uri": "https://localhost:8080/",
          "height": 35
        },
        "outputId": "1f6cc48d-aa87-4eef-ce34-b1749d75ab95"
      },
      "source": [
        "result.shape"
      ],
      "execution_count": null,
      "outputs": [
        {
          "output_type": "execute_result",
          "data": {
            "text/plain": [
              "(3877, 10)"
            ]
          },
          "metadata": {
            "tags": []
          },
          "execution_count": 22
        }
      ]
    },
    {
      "cell_type": "code",
      "metadata": {
        "id": "dXjNCWpGVK11",
        "colab_type": "code",
        "colab": {
          "base_uri": "https://localhost:8080/",
          "height": 550
        },
        "outputId": "df7e8a8e-fafb-413c-a6db-830c4b07c5f9"
      },
      "source": [
        "print(U)\n",
        "print(\"---------------------------------------------\")\n",
        "print(s)\n",
        "print(\"---------------------------------------------\")\n",
        "print(VT)"
      ],
      "execution_count": null,
      "outputs": [
        {
          "output_type": "stream",
          "text": [
            "[[-5.82919651e-03  2.13142159e-03  2.76145058e-03 ... -4.54760356e-38\n",
            "   8.94878990e-39 -8.15849154e-40]\n",
            " [ 3.45787514e-03 -3.47371709e-04 -3.36204908e-03 ...  1.27255448e-16\n",
            "   1.21372992e-16  1.55723672e-16]\n",
            " [ 2.29442423e-03 -1.16278750e-02 -9.07418007e-03 ...  1.52283705e-16\n",
            "   1.82728458e-16  2.08140137e-16]\n",
            " ...\n",
            " [ 9.44752477e-03  1.56145916e-02 -1.67322272e-03 ...  7.50132378e-17\n",
            "   9.02598309e-17  1.88813808e-16]\n",
            " [-8.24473853e-03 -1.85442873e-04  8.63470818e-04 ...  1.64184631e-16\n",
            "  -2.47306516e-16  5.60329235e-17]\n",
            " [-7.54243938e-03 -3.11885788e-04  2.44691945e-03 ...  3.51661822e-16\n",
            "   1.31920299e-16  4.37529787e-16]]\n",
            "---------------------------------------------\n",
            "[7.61656437e+02 5.00645459e+02 4.57170443e+02 ... 5.45221397e-14\n",
            " 5.45221397e-14 5.45221397e-14]\n",
            "---------------------------------------------\n",
            "[[ 0.00081137  0.01359452  0.01069201 ...  0.00912497  0.04004652\n",
            "   0.00216078]\n",
            " [ 0.00052027  0.00090481 -0.02117833 ...  0.01433215 -0.06435626\n",
            "   0.00015843]\n",
            " [-0.00141353 -0.02798439 -0.04146398 ... -0.02480429  0.03320655\n",
            "  -0.00019451]\n",
            " ...\n",
            " [ 0.00516615 -0.00679561 -0.00139714 ... -0.00624119  0.00654761\n",
            "  -0.0078582 ]\n",
            " [-0.00132346 -0.00553529  0.01123809 ...  0.0170186  -0.00230894\n",
            "   0.0077116 ]\n",
            " [-0.001965    0.04650476 -0.02074615 ... -0.00647937 -0.01265865\n",
            "  -0.00744532]]\n"
          ],
          "name": "stdout"
        }
      ]
    },
    {
      "cell_type": "code",
      "metadata": {
        "id": "voE6RzX4aw6N",
        "colab_type": "code",
        "colab": {
          "base_uri": "https://localhost:8080/",
          "height": 70
        },
        "outputId": "aaefa44c-209d-4de4-9d1f-4cd921b2d941"
      },
      "source": [
        "\n",
        "print(U.shape)\n",
        "print(s.shape)\n",
        "print(VT.shape)"
      ],
      "execution_count": null,
      "outputs": [
        {
          "output_type": "stream",
          "text": [
            "(3877, 3877)\n",
            "(3877,)\n",
            "(10, 4339)\n"
          ],
          "name": "stdout"
        }
      ]
    },
    {
      "cell_type": "code",
      "metadata": {
        "id": "CR-vyY0wl9ia",
        "colab_type": "code",
        "colab": {}
      },
      "source": [
        "#print(np.linalg.matrix_rank(U))\n",
        "#print(np.linalg.matrix_rank(s))\n",
        "#print(np.linalg.matrix_rank(VT))"
      ],
      "execution_count": null,
      "outputs": []
    },
    {
      "cell_type": "code",
      "metadata": {
        "id": "CSN_rn4Yb5ps",
        "colab_type": "code",
        "colab": {
          "base_uri": "https://localhost:8080/",
          "height": 266
        },
        "outputId": "90adb902-65a0-4838-bdb4-db3090238164"
      },
      "source": [
        "import warnings\n",
        "warnings.filterwarnings(\"ignore\", category = RuntimeWarning)\n",
        "corr = np.corrcoef(result)\n",
        "print(corr)\n",
        "corr.shape\n"
      ],
      "execution_count": null,
      "outputs": [
        {
          "output_type": "stream",
          "text": [
            "[[ 1.         -0.45875988 -0.47874457 ... -0.46113209  0.89984875\n",
            "   0.90109396]\n",
            " [-0.45875988  1.          0.15591251 ...  0.41562562 -0.44447166\n",
            "  -0.40449602]\n",
            " [-0.47874457  0.15591251  1.         ... -0.35081165 -0.32335134\n",
            "  -0.36689663]\n",
            " ...\n",
            " [-0.46113209  0.41562562 -0.35081165 ...  1.         -0.43188243\n",
            "  -0.40715993]\n",
            " [ 0.89984875 -0.44447166 -0.32335134 ... -0.43188243  1.\n",
            "   0.97997203]\n",
            " [ 0.90109396 -0.40449602 -0.36689663 ... -0.40715993  0.97997203\n",
            "   1.        ]]\n"
          ],
          "name": "stdout"
        },
        {
          "output_type": "execute_result",
          "data": {
            "text/plain": [
              "(3877, 3877)"
            ]
          },
          "metadata": {
            "tags": []
          },
          "execution_count": 26
        }
      ]
    },
    {
      "cell_type": "code",
      "metadata": {
        "id": "2VmCp9DkVPh9",
        "colab_type": "code",
        "colab": {
          "base_uri": "https://localhost:8080/",
          "height": 35
        },
        "outputId": "a5c9a50b-31f6-491d-e974-2e735b06f304"
      },
      "source": [
        "decscription_columns = pivotData.columns\n",
        "description_columns_list = list(decscription_columns)\n",
        "test_recommendation = description_columns_list.index('NOVELTY BISCUITS CAKE STAND 3 TIER')\n",
        "print(test_recommendation)"
      ],
      "execution_count": null,
      "outputs": [
        {
          "output_type": "stream",
          "text": [
            "2159\n"
          ],
          "name": "stdout"
        }
      ]
    },
    {
      "cell_type": "code",
      "metadata": {
        "id": "wIVCzMf2W5Is",
        "colab_type": "code",
        "colab": {
          "base_uri": "https://localhost:8080/",
          "height": 355
        },
        "outputId": "33d3230c-6f6e-49df-cb73-c628284301b4"
      },
      "source": [
        "corr_test_recommendation  = corr[test_recommendation]\n",
        "list(decscription_columns[(corr_test_recommendation>=0.8)])"
      ],
      "execution_count": null,
      "outputs": [
        {
          "output_type": "execute_result",
          "data": {
            "text/plain": [
              "['BAKING MOULD HEART MILK CHOCOLATE',\n",
              " 'BLUE POLKADOT WASHING UP GLOVES',\n",
              " 'CERAMIC CAKE DESIGN SPOTTED MUG',\n",
              " 'CERAMIC CAKE STAND + HANGING CAKES',\n",
              " 'CERAMIC STRAWBERRY DESIGN MUG',\n",
              " 'FLOWER VINE RAFFIA FOOD COVER',\n",
              " 'GLAMOROUS  MUG',\n",
              " 'LARGE CAKE STAND  HANGING STRAWBERY',\n",
              " 'MINI CAKE STAND  HANGING STRAWBERY',\n",
              " 'MINI CAKE STAND WITH HANGING CAKES',\n",
              " 'NOVELTY BISCUITS CAKE STAND 3 TIER',\n",
              " 'RED RETROSPOT APRON ',\n",
              " 'RED RETROSPOT OVEN GLOVE DOUBLE',\n",
              " 'RED RETROSPOT TEA CUP AND SAUCER ',\n",
              " 'RED RETROSPOT TRADITIONAL TEAPOT ',\n",
              " 'SET 3 RETROSPOT TEA,COFFEE,SUGAR',\n",
              " 'STRAWBERRY FAIRY CAKE TEAPOT',\n",
              " 'SWEETHEART CERAMIC TRINKET BOX',\n",
              " 'TEA TIME OVEN GLOVE']"
            ]
          },
          "metadata": {
            "tags": []
          },
          "execution_count": 28
        }
      ]
    },
    {
      "cell_type": "code",
      "metadata": {
        "id": "gEE69JZIXVEk",
        "colab_type": "code",
        "colab": {}
      },
      "source": [
        "\n",
        "#decscription_columns1 = T.columns\n",
        "#description_columns_list1 = list(decscription_columns1)\n",
        "#test_recommendation1 = description_columns_list1.index(12348.0)\n",
        "#print(test_recommendation1)"
      ],
      "execution_count": null,
      "outputs": []
    },
    {
      "cell_type": "code",
      "metadata": {
        "id": "Dw99F9Ywyxxa",
        "colab_type": "code",
        "colab": {}
      },
      "source": [
        ""
      ],
      "execution_count": null,
      "outputs": []
    },
    {
      "cell_type": "markdown",
      "metadata": {
        "id": "dPuMTx5Cpq3U",
        "colab_type": "text"
      },
      "source": [
        "generating recommendations using implicit\n",
        "\n"
      ]
    },
    {
      "cell_type": "code",
      "metadata": {
        "id": "x3H6GHX7ocEN",
        "colab_type": "code",
        "colab": {}
      },
      "source": [
        "import scipy.sparse as sparse\n",
        "from scipy.sparse.linalg import spsolve\n",
        "from pandas.api.types import CategoricalDtype\n"
      ],
      "execution_count": null,
      "outputs": []
    },
    {
      "cell_type": "code",
      "metadata": {
        "id": "wzx566-uIcNl",
        "colab_type": "code",
        "colab": {
          "base_uri": "https://localhost:8080/",
          "height": 194
        },
        "outputId": "5909c4bf-e8e6-42f6-9996-fa53b5f16238"
      },
      "source": [
        "data.head()"
      ],
      "execution_count": null,
      "outputs": [
        {
          "output_type": "execute_result",
          "data": {
            "text/html": [
              "<div>\n",
              "<style scoped>\n",
              "    .dataframe tbody tr th:only-of-type {\n",
              "        vertical-align: middle;\n",
              "    }\n",
              "\n",
              "    .dataframe tbody tr th {\n",
              "        vertical-align: top;\n",
              "    }\n",
              "\n",
              "    .dataframe thead th {\n",
              "        text-align: right;\n",
              "    }\n",
              "</style>\n",
              "<table border=\"1\" class=\"dataframe\">\n",
              "  <thead>\n",
              "    <tr style=\"text-align: right;\">\n",
              "      <th></th>\n",
              "      <th>InvoiceNo</th>\n",
              "      <th>StockCode</th>\n",
              "      <th>Description</th>\n",
              "      <th>Quantity</th>\n",
              "      <th>InvoiceDate</th>\n",
              "      <th>UnitPrice</th>\n",
              "      <th>CustomerID</th>\n",
              "      <th>Country</th>\n",
              "    </tr>\n",
              "  </thead>\n",
              "  <tbody>\n",
              "    <tr>\n",
              "      <th>0</th>\n",
              "      <td>536365</td>\n",
              "      <td>85123A</td>\n",
              "      <td>WHITE HANGING HEART T-LIGHT HOLDER</td>\n",
              "      <td>6</td>\n",
              "      <td>2010-12-01 08:26:00</td>\n",
              "      <td>2.55</td>\n",
              "      <td>17850.0</td>\n",
              "      <td>United Kingdom</td>\n",
              "    </tr>\n",
              "    <tr>\n",
              "      <th>1</th>\n",
              "      <td>536365</td>\n",
              "      <td>71053</td>\n",
              "      <td>WHITE METAL LANTERN</td>\n",
              "      <td>6</td>\n",
              "      <td>2010-12-01 08:26:00</td>\n",
              "      <td>3.39</td>\n",
              "      <td>17850.0</td>\n",
              "      <td>United Kingdom</td>\n",
              "    </tr>\n",
              "    <tr>\n",
              "      <th>2</th>\n",
              "      <td>536365</td>\n",
              "      <td>84406B</td>\n",
              "      <td>CREAM CUPID HEARTS COAT HANGER</td>\n",
              "      <td>8</td>\n",
              "      <td>2010-12-01 08:26:00</td>\n",
              "      <td>2.75</td>\n",
              "      <td>17850.0</td>\n",
              "      <td>United Kingdom</td>\n",
              "    </tr>\n",
              "    <tr>\n",
              "      <th>3</th>\n",
              "      <td>536365</td>\n",
              "      <td>84029G</td>\n",
              "      <td>KNITTED UNION FLAG HOT WATER BOTTLE</td>\n",
              "      <td>6</td>\n",
              "      <td>2010-12-01 08:26:00</td>\n",
              "      <td>3.39</td>\n",
              "      <td>17850.0</td>\n",
              "      <td>United Kingdom</td>\n",
              "    </tr>\n",
              "    <tr>\n",
              "      <th>4</th>\n",
              "      <td>536365</td>\n",
              "      <td>84029E</td>\n",
              "      <td>RED WOOLLY HOTTIE WHITE HEART.</td>\n",
              "      <td>6</td>\n",
              "      <td>2010-12-01 08:26:00</td>\n",
              "      <td>3.39</td>\n",
              "      <td>17850.0</td>\n",
              "      <td>United Kingdom</td>\n",
              "    </tr>\n",
              "  </tbody>\n",
              "</table>\n",
              "</div>"
            ],
            "text/plain": [
              "  InvoiceNo StockCode  ... CustomerID         Country\n",
              "0    536365    85123A  ...    17850.0  United Kingdom\n",
              "1    536365     71053  ...    17850.0  United Kingdom\n",
              "2    536365    84406B  ...    17850.0  United Kingdom\n",
              "3    536365    84029G  ...    17850.0  United Kingdom\n",
              "4    536365    84029E  ...    17850.0  United Kingdom\n",
              "\n",
              "[5 rows x 8 columns]"
            ]
          },
          "metadata": {
            "tags": []
          },
          "execution_count": 31
        }
      ]
    },
    {
      "cell_type": "code",
      "metadata": {
        "id": "pEM92xKwI3S5",
        "colab_type": "code",
        "colab": {}
      },
      "source": [
        "data_cleaned = data.loc[pd.isnull(data.CustomerID)== False ]"
      ],
      "execution_count": null,
      "outputs": []
    },
    {
      "cell_type": "code",
      "metadata": {
        "id": "Z5O04t5Jpb3M",
        "colab_type": "code",
        "colab": {
          "base_uri": "https://localhost:8080/",
          "height": 284
        },
        "outputId": "608e1db0-ca2d-47d8-d358-eca6f74fa5dc"
      },
      "source": [
        "data_cleaned.info()"
      ],
      "execution_count": null,
      "outputs": [
        {
          "output_type": "stream",
          "text": [
            "<class 'pandas.core.frame.DataFrame'>\n",
            "Int64Index: 397924 entries, 0 to 541908\n",
            "Data columns (total 8 columns):\n",
            " #   Column       Non-Null Count   Dtype         \n",
            "---  ------       --------------   -----         \n",
            " 0   InvoiceNo    397924 non-null  object        \n",
            " 1   StockCode    397924 non-null  object        \n",
            " 2   Description  397924 non-null  object        \n",
            " 3   Quantity     397924 non-null  int64         \n",
            " 4   InvoiceDate  397924 non-null  datetime64[ns]\n",
            " 5   UnitPrice    397924 non-null  float64       \n",
            " 6   CustomerID   397924 non-null  float64       \n",
            " 7   Country      397924 non-null  object        \n",
            "dtypes: datetime64[ns](1), float64(2), int64(1), object(4)\n",
            "memory usage: 27.3+ MB\n"
          ],
          "name": "stdout"
        }
      ]
    },
    {
      "cell_type": "code",
      "metadata": {
        "id": "cMYXxcwUftm2",
        "colab_type": "code",
        "colab": {}
      },
      "source": [
        "items_check = data_cleaned[['StockCode','Description']].drop_duplicates()\n",
        "items_check['StockCode'] = data_cleaned.StockCode.astype(str)"
      ],
      "execution_count": null,
      "outputs": []
    },
    {
      "cell_type": "code",
      "metadata": {
        "id": "g3cPLq7TftJU",
        "colab_type": "code",
        "colab": {
          "base_uri": "https://localhost:8080/",
          "height": 194
        },
        "outputId": "329aaa87-8e35-4544-c08b-4852230c9d9b"
      },
      "source": [
        "items_check.head()"
      ],
      "execution_count": null,
      "outputs": [
        {
          "output_type": "execute_result",
          "data": {
            "text/html": [
              "<div>\n",
              "<style scoped>\n",
              "    .dataframe tbody tr th:only-of-type {\n",
              "        vertical-align: middle;\n",
              "    }\n",
              "\n",
              "    .dataframe tbody tr th {\n",
              "        vertical-align: top;\n",
              "    }\n",
              "\n",
              "    .dataframe thead th {\n",
              "        text-align: right;\n",
              "    }\n",
              "</style>\n",
              "<table border=\"1\" class=\"dataframe\">\n",
              "  <thead>\n",
              "    <tr style=\"text-align: right;\">\n",
              "      <th></th>\n",
              "      <th>StockCode</th>\n",
              "      <th>Description</th>\n",
              "    </tr>\n",
              "  </thead>\n",
              "  <tbody>\n",
              "    <tr>\n",
              "      <th>0</th>\n",
              "      <td>85123A</td>\n",
              "      <td>WHITE HANGING HEART T-LIGHT HOLDER</td>\n",
              "    </tr>\n",
              "    <tr>\n",
              "      <th>1</th>\n",
              "      <td>71053</td>\n",
              "      <td>WHITE METAL LANTERN</td>\n",
              "    </tr>\n",
              "    <tr>\n",
              "      <th>2</th>\n",
              "      <td>84406B</td>\n",
              "      <td>CREAM CUPID HEARTS COAT HANGER</td>\n",
              "    </tr>\n",
              "    <tr>\n",
              "      <th>3</th>\n",
              "      <td>84029G</td>\n",
              "      <td>KNITTED UNION FLAG HOT WATER BOTTLE</td>\n",
              "    </tr>\n",
              "    <tr>\n",
              "      <th>4</th>\n",
              "      <td>84029E</td>\n",
              "      <td>RED WOOLLY HOTTIE WHITE HEART.</td>\n",
              "    </tr>\n",
              "  </tbody>\n",
              "</table>\n",
              "</div>"
            ],
            "text/plain": [
              "  StockCode                          Description\n",
              "0    85123A   WHITE HANGING HEART T-LIGHT HOLDER\n",
              "1     71053                  WHITE METAL LANTERN\n",
              "2    84406B       CREAM CUPID HEARTS COAT HANGER\n",
              "3    84029G  KNITTED UNION FLAG HOT WATER BOTTLE\n",
              "4    84029E       RED WOOLLY HOTTIE WHITE HEART."
            ]
          },
          "metadata": {
            "tags": []
          },
          "execution_count": 35
        }
      ]
    },
    {
      "cell_type": "code",
      "metadata": {
        "id": "b7FBAcV5a1Ny",
        "colab_type": "code",
        "colab": {}
      },
      "source": [
        "data_cleaned['CustomerID'] = data_cleaned.CustomerID.astype(int)\n",
        "data_cleaned = data_cleaned[['StockCode', 'Quantity', 'CustomerID']] \n",
        "data_cleaned_grouped = data_cleaned.groupby(['CustomerID', 'StockCode']).sum().reset_index()\n",
        "data_cleaned_grouped.Quantity.loc[data_cleaned_grouped.Quantity == 0] == 1\n",
        "grouped_purchased_data = data_cleaned_grouped.query('Quantity > 0')"
      ],
      "execution_count": null,
      "outputs": []
    },
    {
      "cell_type": "code",
      "metadata": {
        "id": "LhMPtoSugxdK",
        "colab_type": "code",
        "colab": {
          "base_uri": "https://localhost:8080/",
          "height": 194
        },
        "outputId": "672ffc09-76fa-4bb4-b3f5-cbf152321aac"
      },
      "source": [
        "grouped_purchased_data.head()"
      ],
      "execution_count": null,
      "outputs": [
        {
          "output_type": "execute_result",
          "data": {
            "text/html": [
              "<div>\n",
              "<style scoped>\n",
              "    .dataframe tbody tr th:only-of-type {\n",
              "        vertical-align: middle;\n",
              "    }\n",
              "\n",
              "    .dataframe tbody tr th {\n",
              "        vertical-align: top;\n",
              "    }\n",
              "\n",
              "    .dataframe thead th {\n",
              "        text-align: right;\n",
              "    }\n",
              "</style>\n",
              "<table border=\"1\" class=\"dataframe\">\n",
              "  <thead>\n",
              "    <tr style=\"text-align: right;\">\n",
              "      <th></th>\n",
              "      <th>CustomerID</th>\n",
              "      <th>StockCode</th>\n",
              "      <th>Quantity</th>\n",
              "    </tr>\n",
              "  </thead>\n",
              "  <tbody>\n",
              "    <tr>\n",
              "      <th>0</th>\n",
              "      <td>12346</td>\n",
              "      <td>23166</td>\n",
              "      <td>74215</td>\n",
              "    </tr>\n",
              "    <tr>\n",
              "      <th>1</th>\n",
              "      <td>12347</td>\n",
              "      <td>16008</td>\n",
              "      <td>24</td>\n",
              "    </tr>\n",
              "    <tr>\n",
              "      <th>2</th>\n",
              "      <td>12347</td>\n",
              "      <td>17021</td>\n",
              "      <td>36</td>\n",
              "    </tr>\n",
              "    <tr>\n",
              "      <th>3</th>\n",
              "      <td>12347</td>\n",
              "      <td>20665</td>\n",
              "      <td>6</td>\n",
              "    </tr>\n",
              "    <tr>\n",
              "      <th>4</th>\n",
              "      <td>12347</td>\n",
              "      <td>20719</td>\n",
              "      <td>40</td>\n",
              "    </tr>\n",
              "  </tbody>\n",
              "</table>\n",
              "</div>"
            ],
            "text/plain": [
              "   CustomerID StockCode  Quantity\n",
              "0       12346     23166     74215\n",
              "1       12347     16008        24\n",
              "2       12347     17021        36\n",
              "3       12347     20665         6\n",
              "4       12347     20719        40"
            ]
          },
          "metadata": {
            "tags": []
          },
          "execution_count": 37
        }
      ]
    },
    {
      "cell_type": "code",
      "metadata": {
        "id": "OYpPQuW5g0R-",
        "colab_type": "code",
        "colab": {}
      },
      "source": [
        "customers = list(np.sort(grouped_purchased_data.CustomerID.unique())) # Get our unique customers\n",
        "products = list(grouped_purchased_data.StockCode.unique()) # Get our unique products that were purchased\n",
        "quantity = list(grouped_purchased_data.Quantity) # All of our purchases\n",
        "\n",
        "rows = grouped_purchased_data.CustomerID.astype(CategoricalDtype(categories = customers)).cat.codes \n",
        "# Get the associated row indices\n",
        "cols = grouped_purchased_data.StockCode.astype(CategoricalDtype(categories =  products)).cat.codes \n",
        "# Get the associated column indices\n",
        "purchases_sparse = sparse.csr_matrix((quantity, (rows, cols)), shape=(len(customers), len(products)))"
      ],
      "execution_count": null,
      "outputs": []
    },
    {
      "cell_type": "code",
      "metadata": {
        "id": "jHk6OZkTn9eg",
        "colab_type": "code",
        "colab": {
          "base_uri": "https://localhost:8080/",
          "height": 52
        },
        "outputId": "9deb351e-57d8-41fe-a3f4-c0ccffb79f20"
      },
      "source": [
        "purchases_sparse"
      ],
      "execution_count": null,
      "outputs": [
        {
          "output_type": "execute_result",
          "data": {
            "text/plain": [
              "<4339x3665 sparse matrix of type '<class 'numpy.longlong'>'\n",
              "\twith 266802 stored elements in Compressed Sparse Row format>"
            ]
          },
          "metadata": {
            "tags": []
          },
          "execution_count": 39
        }
      ]
    },
    {
      "cell_type": "code",
      "metadata": {
        "id": "oB2z6VP9ppeM",
        "colab_type": "code",
        "colab": {}
      },
      "source": [
        "#print(purchases_sparse)"
      ],
      "execution_count": null,
      "outputs": []
    },
    {
      "cell_type": "code",
      "metadata": {
        "id": "6oKgwVKaEwVO",
        "colab_type": "code",
        "colab": {
          "base_uri": "https://localhost:8080/",
          "height": 35
        },
        "outputId": "be96fdce-249d-41c0-a356-4887b3acff20"
      },
      "source": [
        "print(len(purchases_sparse.nonzero()[1]))"
      ],
      "execution_count": null,
      "outputs": [
        {
          "output_type": "stream",
          "text": [
            "266802\n"
          ],
          "name": "stdout"
        }
      ]
    },
    {
      "cell_type": "code",
      "metadata": {
        "id": "tc_L76DupsZ0",
        "colab_type": "code",
        "colab": {
          "base_uri": "https://localhost:8080/",
          "height": 35
        },
        "outputId": "ccd8c9d5-616b-49e7-bbb3-58d375a09a0c"
      },
      "source": [
        "matrix_size = purchases_sparse.shape[0]*purchases_sparse.shape[1] # Number of possible interactions in the matrix\n",
        "num_purchases = len(purchases_sparse.nonzero()[0]) # Number of items interacted with\n",
        "sparsity = 100*(1 - (num_purchases/matrix_size))\n",
        "sparsity"
      ],
      "execution_count": null,
      "outputs": [
        {
          "output_type": "execute_result",
          "data": {
            "text/plain": [
              "98.32225693738097"
            ]
          },
          "metadata": {
            "tags": []
          },
          "execution_count": 42
        }
      ]
    },
    {
      "cell_type": "code",
      "metadata": {
        "id": "jXetMP2cqU8X",
        "colab_type": "code",
        "colab": {}
      },
      "source": [
        "import random"
      ],
      "execution_count": null,
      "outputs": []
    },
    {
      "cell_type": "code",
      "metadata": {
        "id": "LAvBriZ0dI-m",
        "colab_type": "code",
        "colab": {}
      },
      "source": [
        "def train_data(ratings, pct_test = 0.2): \n",
        "  test_set = ratings.copy()\n",
        "  test_set[test_set != 0 ] = 1\n",
        "  train_set = ratings.copy()\n",
        "  nonzero_inds = train_set.nonzero()\n",
        "  nonzero_pairs = list(zip(nonzero_inds[0], nonzero_inds[1]))\n",
        "  random.seed(0)\n",
        "  num_samples = int(np.ceil(pct_test*len(nonzero_pairs)))\n",
        "  samples = random.sample(nonzero_pairs, num_samples)\n",
        "  user_inds = [index[0] for index in samples]\n",
        "  item_inds = [index[1] for index in samples] # Get the item column indices\n",
        "  train_set[user_inds, item_inds] = 0 # Assign all of the randomly chosen user-item pairs to zero\n",
        "  train_set.eliminate_zeros() # Get rid of zeros in sparse array storage after update to save space\n",
        "  return train_set, test_set, list(set(user_inds)) \n",
        "\n",
        "\n"
      ],
      "execution_count": null,
      "outputs": []
    },
    {
      "cell_type": "code",
      "metadata": {
        "id": "r7-524VApHc-",
        "colab_type": "code",
        "colab": {}
      },
      "source": [
        "product_train_test, product_test_test, product_users_altered_data = train_data(purchases_sparse, pct_test = 0.2)\n"
      ],
      "execution_count": null,
      "outputs": []
    },
    {
      "cell_type": "code",
      "metadata": {
        "id": "H347yxncpVba",
        "colab_type": "code",
        "colab": {}
      },
      "source": [
        "def implicit_als(training_set, lambda_value = 0.1, alpha = 40, iterations = 10, rank_size = 20, seed=0):\n",
        "  conf = (alpha*training_set)\n",
        "\n",
        "  num_users = conf.shape[0]\n",
        "  num_items = conf.shape[1]\n",
        "\n",
        "  rstate = np.random.RandomState(seed)\n",
        "  X = sparse.csr_matrix(rstate.normal(size = (num_users, rank_size))) # Random numbers in a m x rank shape\n",
        "  Y = sparse.csr_matrix(rstate.normal(size = (num_items, rank_size))) # Normally this would be rank x n but we can \n",
        "                                                                 # transpose at the end. Makes calculation more simple.\n",
        "  X_eye = sparse.eye(num_users)\n",
        "  Y_eye = sparse.eye(num_items)\n",
        "  lambda_eye = lambda_value * sparse.eye(rank_size)\n",
        "\n",
        "\n",
        "  for iter_step in range(iterations):\n",
        "\n",
        "    xTx = X.T.dot(X)\n",
        "    yTy = Y.T.dot(Y)\n",
        "\n",
        "    for u in range(num_users):\n",
        "      conf_sample = conf[u,:].toarray()\n",
        "      pref = conf_sample.copy()\n",
        "      pref[pref!=0] = 1\n",
        "      CuI = sparse.diags(conf_sample,[0])\n",
        "      yTCuIY = Y.T.dot(CuI).dot(Y)\n",
        "      yTCupu = Y.T.dot(CuI + Y_eye).dot(pref.T)\n",
        "      \n",
        "      X[u] = spsolve(yTy+yTCuIY+lambda_eye, yTCupu)\n",
        "\n",
        "    for i in range(num_items):\n",
        "      conf_samp = conf[:,i].T.toarray() # transpose to get it in row format and convert to dense\n",
        "      pref = conf_samp.copy()\n",
        "      pref[pref != 0] = 1 # Create binarized preference vector\n",
        "      CiI = sparse.diags(conf_samp, [0]) # Get Ci - I term, don't need to subtract 1 since we never added it\n",
        "      xTCiIX = X.T.dot(CiI).dot(X) # This is the xT(Cu-I)X term\n",
        "      xTCiPi = X.T.dot(CiI + X_eye).dot(pref.T) # This is the xTCiPi term\n",
        "      Y[i] = spsolve(xTx + xTCiIX + lambda_eye, xTCiPi)\n",
        "      # Solve for Yi = ((xTx + xT(Cu-I)X) + lambda*I)^-1)xTCiPi, equation 5 from the paper\n",
        "      # End iterations\n",
        "  return X, Y.T # Transpose at the end to make up for not being transposed at the beginning. \n",
        "                    # Y needs to be rank x n. Keep these as separate matrices for scale reasons. \n",
        "\n"
      ],
      "execution_count": null,
      "outputs": []
    },
    {
      "cell_type": "code",
      "metadata": {
        "id": "7DOePoIbpxeL",
        "colab_type": "code",
        "colab": {}
      },
      "source": [
        "user_vecs, item_vecs = implicit_als(product_train_test,lambda_value = 0.1, alpha = 15,iterations = 1, rank_size = 20)"
      ],
      "execution_count": null,
      "outputs": []
    },
    {
      "cell_type": "code",
      "metadata": {
        "id": "4OsoGE1NDyjf",
        "colab_type": "code",
        "colab": {
          "base_uri": "https://localhost:8080/",
          "height": 35
        },
        "outputId": "84c58b85-78cb-4502-9da2-80777d166dca"
      },
      "source": [
        " user_vecs[0,:].dot(item_vecs).toarray()[0,:5]\n"
      ],
      "execution_count": null,
      "outputs": [
        {
          "output_type": "execute_result",
          "data": {
            "text/plain": [
              "array([ 0.9434495 , -0.0325035 , -0.09743154, -0.01528708, -0.33619334])"
            ]
          },
          "metadata": {
            "tags": []
          },
          "execution_count": 48
        }
      ]
    },
    {
      "cell_type": "code",
      "metadata": {
        "id": "bpyNB7fGHc1G",
        "colab_type": "code",
        "colab": {}
      },
      "source": [
        ""
      ],
      "execution_count": null,
      "outputs": []
    },
    {
      "cell_type": "code",
      "metadata": {
        "id": "NROGmEMNHywT",
        "colab_type": "code",
        "colab": {}
      },
      "source": [
        ""
      ],
      "execution_count": null,
      "outputs": []
    },
    {
      "cell_type": "markdown",
      "metadata": {
        "id": "0hDKzgljH0et",
        "colab_type": "text"
      },
      "source": [
        "# speeding up **ALS**"
      ]
    },
    {
      "cell_type": "code",
      "metadata": {
        "id": "BuYvaESlo5lS",
        "colab_type": "code",
        "colab": {
          "base_uri": "https://localhost:8080/",
          "height": 88
        },
        "outputId": "eaa2fa61-8361-4d23-d422-41dc4bc8f884"
      },
      "source": [
        "!pip install implicit"
      ],
      "execution_count": null,
      "outputs": [
        {
          "output_type": "stream",
          "text": [
            "Requirement already satisfied: implicit in /usr/local/lib/python3.6/dist-packages (0.4.2)\n",
            "Requirement already satisfied: numpy in /usr/local/lib/python3.6/dist-packages (from implicit) (1.18.4)\n",
            "Requirement already satisfied: scipy>=0.16 in /usr/local/lib/python3.6/dist-packages (from implicit) (1.4.1)\n",
            "Requirement already satisfied: tqdm>=4.27 in /usr/local/lib/python3.6/dist-packages (from implicit) (4.41.1)\n"
          ],
          "name": "stdout"
        }
      ]
    },
    {
      "cell_type": "code",
      "metadata": {
        "id": "OYMN5hclHyfX",
        "colab_type": "code",
        "colab": {
          "base_uri": "https://localhost:8080/",
          "height": 120,
          "referenced_widgets": [
            "2ae1d956cd79445f8e0b634f6e169c2f",
            "c8e9f4db64c94398a683c70f61cdbbf1",
            "9fcb223bd6ab47e38f32865c942eba1f",
            "e556ffe8e3b04549ac874d8895e0e889",
            "b1e67d7693c44247a46d2958c8009e17",
            "c792a73e73fe44f8a14ea17061474498",
            "a96af908e9224c8e921244838afb1d1c",
            "d4418d76bd6446428fdac520328d81d8"
          ]
        },
        "outputId": "7ece96b3-100e-42f4-8e39-c236fc4081e2"
      },
      "source": [
        "alpha = 15\n",
        "user_vecs, item_vecs = implicit.alternating_least_squares((product_train_test*alpha).astype('double'),factors = 20, regularization = 0.1, iterations = 50 )"
      ],
      "execution_count": null,
      "outputs": [
        {
          "output_type": "stream",
          "text": [
            "This method is deprecated. Please use the AlternatingLeastSquares class instead\n",
            "GPU training requires factor size to be a multiple of 32. Increasing factors from 20 to 32.\n",
            "WARNING:root:OpenBLAS detected. Its highly recommend to set the environment variable 'export OPENBLAS_NUM_THREADS=1' to disable its internal multithreading\n"
          ],
          "name": "stderr"
        },
        {
          "output_type": "display_data",
          "data": {
            "application/vnd.jupyter.widget-view+json": {
              "model_id": "2ae1d956cd79445f8e0b634f6e169c2f",
              "version_minor": 0,
              "version_major": 2
            },
            "text/plain": [
              "HBox(children=(FloatProgress(value=0.0, max=50.0), HTML(value='')))"
            ]
          },
          "metadata": {
            "tags": []
          }
        },
        {
          "output_type": "stream",
          "text": [
            "\n"
          ],
          "name": "stdout"
        }
      ]
    },
    {
      "cell_type": "code",
      "metadata": {
        "id": "f0Xlr1LqHybf",
        "colab_type": "code",
        "colab": {}
      },
      "source": [
        ""
      ],
      "execution_count": null,
      "outputs": []
    },
    {
      "cell_type": "markdown",
      "metadata": {
        "id": "VKXMzzqLj8Fk",
        "colab_type": "text"
      },
      "source": [
        "# evaluating the **recommender** **system**"
      ]
    },
    {
      "cell_type": "code",
      "metadata": {
        "id": "OofFfHywkNku",
        "colab_type": "code",
        "colab": {}
      },
      "source": [
        "from sklearn import metrics"
      ],
      "execution_count": null,
      "outputs": []
    },
    {
      "cell_type": "code",
      "metadata": {
        "id": "PY3TIKYGkuC9",
        "colab_type": "code",
        "colab": {}
      },
      "source": [
        "def area_under_curve_score(predictions, test):\n",
        "  '''\n",
        "    This simple function will output the area under the curve using sklearn's metrics. \n",
        "    \n",
        "    parameters:\n",
        "    \n",
        "    - predictions: your prediction output\n",
        "    \n",
        "    - test: the actual target result you are comparing to\n",
        "    \n",
        "    returns:\n",
        "    \n",
        "    - AUC (area under the Receiver Operating Characterisic curve)\n",
        "    '''\n",
        "  fpr, tpr, thresholds = metrics.roc_curve(test, predictions)\n",
        "  return metrics.auc(fpr, tpr)\n"
      ],
      "execution_count": null,
      "outputs": []
    },
    {
      "cell_type": "code",
      "metadata": {
        "id": "7uGz8EfS4ifY",
        "colab_type": "code",
        "colab": {}
      },
      "source": [
        "def calc_mean_areaUnderCurve(training_set, altered_users, predictions, test_set):\n",
        "  store_auc = []\n",
        "  popularity_auc = []\n",
        "  pop_items = np.array(test_set.sum(axis = 0)).reshape(-1) # Get sum of item iteractions to find most popular\n",
        "  item_vecs = predictions[1]\n",
        "  for user in altered_users: # Iterate through each user that had an item altered\n",
        "      training_row = training_set[user,:].toarray().reshape(-1) # Get the training set row\n",
        "      zero_inds = np.where(training_row == 0) # Find where the interaction had not yet occurred\n",
        "      # Get the predicted values based on our user/item vectors\n",
        "      user_vec = predictions[0][user,:]\n",
        "      pred = user_vec.dot(item_vecs).toarray()[0,zero_inds].reshape(-1)\n",
        "      # Get only the items that were originally zero\n",
        "      # Select all ratings from the MF prediction for this user that originally had no iteraction\n",
        "      actual = test_set[user,:].toarray()[0,zero_inds].reshape(-1) \n",
        "      # Select the binarized yes/no interaction pairs from the original full data\n",
        "      # that align with the same pairs in training \n",
        "      pop = pop_items[zero_inds] # Get the item popularity for our chosen items\n",
        "      store_auc.append(area_under_curve_score(pred, actual)) # Calculate AUC for the given user and store\n",
        "      popularity_auc.append(area_under_curve_score(pop, actual)) # Calculate AUC using most popular and score\n",
        "    # End users iteration\n",
        "    \n",
        "  return float('%.3f'%np.mean(store_auc)), float('%.3f'%np.mean(popularity_auc))  \n",
        "   # Return the mean AUC rounded to three decimal places for both test and popularity benchmark\n",
        "      \n"
      ],
      "execution_count": null,
      "outputs": []
    },
    {
      "cell_type": "code",
      "metadata": {
        "id": "-0hERJFKmRxw",
        "colab_type": "code",
        "colab": {
          "base_uri": "https://localhost:8080/",
          "height": 35
        },
        "outputId": "ae7a2471-9097-4759-ed06-cf0566b8aed6"
      },
      "source": [
        "calc_mean_areaUnderCurve(product_train_test, product_users_altered_data,[sparse.csr_matrix(user_vecs), sparse.csr_matrix(item_vecs.T)], product_test_test)\n",
        "# AUC for our recommender system"
      ],
      "execution_count": null,
      "outputs": [
        {
          "output_type": "execute_result",
          "data": {
            "text/plain": [
              "(0.872, 0.816)"
            ]
          },
          "metadata": {
            "tags": []
          },
          "execution_count": 54
        }
      ]
    },
    {
      "cell_type": "code",
      "metadata": {
        "id": "gcvvAsW6mTBo",
        "colab_type": "code",
        "colab": {}
      },
      "source": [
        "customers_arr = np.array(customers) # Array of customer IDs from the ratings matrix\n",
        "products_arr = np.array(products) # Array of product IDs from the ratings matrix"
      ],
      "execution_count": null,
      "outputs": []
    },
    {
      "cell_type": "code",
      "metadata": {
        "id": "had9rthOmVuL",
        "colab_type": "code",
        "colab": {}
      },
      "source": [
        "def get_items_purchased(customer_id, mf_train, customers_list, products_list, item_lookup):\n",
        "    '''\n",
        "    This just tells me which items have been already purchased by a specific user in the training set. \n",
        "    \n",
        "    parameters: \n",
        "    \n",
        "    customer_id - Input the customer's id number that you want to see prior purchases of at least once\n",
        "    \n",
        "    mf_train - The initial ratings training set used (without weights applied)\n",
        "    \n",
        "    customers_list - The array of customers used in the ratings matrix\n",
        "    \n",
        "    products_list - The array of products used in the ratings matrix\n",
        "    \n",
        "    item_lookup - A simple pandas dataframe of the unique product ID/product descriptions available\n",
        "    \n",
        "    returns:\n",
        "    \n",
        "    A list of item IDs and item descriptions for a particular customer that were already purchased in the training set\n",
        "    '''\n",
        "    cust_ind = np.where(customers_list == customer_id)[00] # Returns the index row of our customer id\n",
        "    purchased_ind = mf_train[cust_ind,:].nonzero()[1] # Get column indices of purchased items\n",
        "    prod_codes = products_list[purchased_ind] # Get the stock codes for our purchased items\n",
        "    return item_lookup.loc[item_lookup.StockCode.isin(prod_codes)]"
      ],
      "execution_count": null,
      "outputs": []
    },
    {
      "cell_type": "code",
      "metadata": {
        "id": "5BxvimCNmVrP",
        "colab_type": "code",
        "colab": {
          "base_uri": "https://localhost:8080/",
          "height": 35
        },
        "outputId": "33cafd2c-1af4-44cd-954d-9b453ba3cdd0"
      },
      "source": [
        "customers_arr[:5]\n"
      ],
      "execution_count": null,
      "outputs": [
        {
          "output_type": "execute_result",
          "data": {
            "text/plain": [
              "array([12346, 12347, 12348, 12349, 12350])"
            ]
          },
          "metadata": {
            "tags": []
          },
          "execution_count": 57
        }
      ]
    },
    {
      "cell_type": "code",
      "metadata": {
        "id": "1Roda_UlmkaG",
        "colab_type": "code",
        "colab": {
          "base_uri": "https://localhost:8080/",
          "height": 76
        },
        "outputId": "b09cd996-d5ae-4935-8559-bacff6c01219"
      },
      "source": [
        "get_items_purchased(12346, product_train_test\n",
        "                    , customers_arr, products_arr, items_check)\n"
      ],
      "execution_count": null,
      "outputs": [
        {
          "output_type": "execute_result",
          "data": {
            "text/html": [
              "<div>\n",
              "<style scoped>\n",
              "    .dataframe tbody tr th:only-of-type {\n",
              "        vertical-align: middle;\n",
              "    }\n",
              "\n",
              "    .dataframe tbody tr th {\n",
              "        vertical-align: top;\n",
              "    }\n",
              "\n",
              "    .dataframe thead th {\n",
              "        text-align: right;\n",
              "    }\n",
              "</style>\n",
              "<table border=\"1\" class=\"dataframe\">\n",
              "  <thead>\n",
              "    <tr style=\"text-align: right;\">\n",
              "      <th></th>\n",
              "      <th>StockCode</th>\n",
              "      <th>Description</th>\n",
              "    </tr>\n",
              "  </thead>\n",
              "  <tbody>\n",
              "    <tr>\n",
              "      <th>61619</th>\n",
              "      <td>23166</td>\n",
              "      <td>MEDIUM CERAMIC TOP STORAGE JAR</td>\n",
              "    </tr>\n",
              "  </tbody>\n",
              "</table>\n",
              "</div>"
            ],
            "text/plain": [
              "      StockCode                     Description\n",
              "61619     23166  MEDIUM CERAMIC TOP STORAGE JAR"
            ]
          },
          "metadata": {
            "tags": []
          },
          "execution_count": 58
        }
      ]
    },
    {
      "cell_type": "code",
      "metadata": {
        "id": "LyR_Waj1mqV4",
        "colab_type": "code",
        "colab": {}
      },
      "source": [
        "from sklearn.preprocessing import MinMaxScaler\n"
      ],
      "execution_count": null,
      "outputs": []
    },
    {
      "cell_type": "code",
      "metadata": {
        "id": "TR4oxvHLmvlF",
        "colab_type": "code",
        "colab": {}
      },
      "source": [
        "def rec_items(customer_id, mf_train, user_vecs, item_vecs, customer_list, item_list, item_lookup, num_items = 10):\n",
        "    '''\n",
        "    This function will return the top recommended items to our users \n",
        "    \n",
        "    parameters:\n",
        "    \n",
        "    customer_id - Input the customer's id number that you want to get recommendations for\n",
        "    \n",
        "    mf_train - The training matrix you used for matrix factorization fitting\n",
        "    \n",
        "    user_vecs - the user vectors from your fitted matrix factorization\n",
        "    \n",
        "    item_vecs - the item vectors from your fitted matrix factorization\n",
        "    \n",
        "    customer_list - an array of the customer's ID numbers that make up the rows of your ratings matrix \n",
        "                    (in order of matrix)\n",
        "    \n",
        "    item_list - an array of the products that make up the columns of your ratings matrix\n",
        "                    (in order of matrix)\n",
        "    \n",
        "    item_lookup - A simple pandas dataframe of the unique product ID/product descriptions available\n",
        "    \n",
        "    num_items - The number of items you want to recommend in order of best recommendations. Default is 10. \n",
        "    \n",
        "    returns:\n",
        "    \n",
        "    - The top n recommendations chosen based on the user/item vectors for items never interacted with/purchased\n",
        "    '''\n",
        "    \n",
        "    cust_ind = np.where(customer_list == customer_id)[0][0] # Returns the index row of our customer id, to find the index of value we use numpy.where as there exists no numpy.index\n",
        "    pref_vec = mf_train[cust_ind,:].toarray() # Get the ratings from the training set ratings matrix\n",
        "    pref_vec = pref_vec.reshape(-1) + 1 # Add 1 to everything, so that items not purchased yet become equal to 1\n",
        "    pref_vec[pref_vec > 1] = 0 # Make everything already purchased zero\n",
        "    rec_vector = user_vecs[cust_ind,:].dot(item_vecs.T) # Get dot product of user vector and all item vectors\n",
        "    # Scale this recommendation vector between 0 and 1\n",
        "    min_max = MinMaxScaler()\n",
        "    rec_vector_scaled = min_max.fit_transform(rec_vector.reshape(-1,1))[:,0] \n",
        "    recommend_vector = pref_vec*rec_vector_scaled \n",
        "    # Items already purchased have their recommendation multiplied by zero\n",
        "    product_idx = np.argsort(recommend_vector)[::-1][:num_items] # Sort the indices of the items into order \n",
        "    # of best recommendations\n",
        "    rec_list = [] # start empty list to store items\n",
        "    for index in product_idx:\n",
        "        code = item_list[index]\n",
        "        rec_list.append([code, item_lookup.Description.loc[item_lookup.StockCode == code].iloc[0]]) \n",
        "        # Append our descriptions to the list\n",
        "    codes = [item[0] for item in rec_list]\n",
        "    descriptions = [item[1] for item in rec_list]\n",
        "    final_frame = pd.DataFrame({'StockCode': codes, 'Description': descriptions}) # Create a dataframe \n",
        "    return final_frame[['StockCode', 'Description']] # Switch order of columns around"
      ],
      "execution_count": null,
      "outputs": []
    },
    {
      "cell_type": "code",
      "metadata": {
        "id": "ttXsQHntmw_2",
        "colab_type": "code",
        "colab": {
          "base_uri": "https://localhost:8080/",
          "height": 340
        },
        "outputId": "ae200ac5-dad9-4823-f162-c3a3da3d50b2"
      },
      "source": [
        "rec_items(12346, product_train_test, user_vecs, item_vecs, customers_arr, products_arr, items_check,\n",
        "                       num_items = 10)"
      ],
      "execution_count": null,
      "outputs": [
        {
          "output_type": "execute_result",
          "data": {
            "text/html": [
              "<div>\n",
              "<style scoped>\n",
              "    .dataframe tbody tr th:only-of-type {\n",
              "        vertical-align: middle;\n",
              "    }\n",
              "\n",
              "    .dataframe tbody tr th {\n",
              "        vertical-align: top;\n",
              "    }\n",
              "\n",
              "    .dataframe thead th {\n",
              "        text-align: right;\n",
              "    }\n",
              "</style>\n",
              "<table border=\"1\" class=\"dataframe\">\n",
              "  <thead>\n",
              "    <tr style=\"text-align: right;\">\n",
              "      <th></th>\n",
              "      <th>StockCode</th>\n",
              "      <th>Description</th>\n",
              "    </tr>\n",
              "  </thead>\n",
              "  <tbody>\n",
              "    <tr>\n",
              "      <th>0</th>\n",
              "      <td>23167</td>\n",
              "      <td>SMALL CERAMIC TOP STORAGE JAR</td>\n",
              "    </tr>\n",
              "    <tr>\n",
              "      <th>1</th>\n",
              "      <td>23165</td>\n",
              "      <td>LARGE CERAMIC TOP STORAGE JAR</td>\n",
              "    </tr>\n",
              "    <tr>\n",
              "      <th>2</th>\n",
              "      <td>84826</td>\n",
              "      <td>ASSTD DESIGN 3D PAPER STICKERS</td>\n",
              "    </tr>\n",
              "    <tr>\n",
              "      <th>3</th>\n",
              "      <td>21390</td>\n",
              "      <td>FILIGRIS HEART WITH BUTTERFLY</td>\n",
              "    </tr>\n",
              "    <tr>\n",
              "      <th>4</th>\n",
              "      <td>23014</td>\n",
              "      <td>GLASS APOTHECARY BOTTLE ELIXIR</td>\n",
              "    </tr>\n",
              "    <tr>\n",
              "      <th>5</th>\n",
              "      <td>85061W</td>\n",
              "      <td>WHITE JEWELLED HEART DECORATION</td>\n",
              "    </tr>\n",
              "    <tr>\n",
              "      <th>6</th>\n",
              "      <td>23169</td>\n",
              "      <td>CLASSIC GLASS SWEET JAR</td>\n",
              "    </tr>\n",
              "    <tr>\n",
              "      <th>7</th>\n",
              "      <td>23418</td>\n",
              "      <td>LAVENDER TOILETTE BOTTLE</td>\n",
              "    </tr>\n",
              "    <tr>\n",
              "      <th>8</th>\n",
              "      <td>22665</td>\n",
              "      <td>RECIPE BOX BLUE SKETCHBOOK DESIGN</td>\n",
              "    </tr>\n",
              "    <tr>\n",
              "      <th>9</th>\n",
              "      <td>21917</td>\n",
              "      <td>SET 12 KIDS  WHITE CHALK STICKS</td>\n",
              "    </tr>\n",
              "  </tbody>\n",
              "</table>\n",
              "</div>"
            ],
            "text/plain": [
              "  StockCode                        Description\n",
              "0     23167     SMALL CERAMIC TOP STORAGE JAR \n",
              "1     23165      LARGE CERAMIC TOP STORAGE JAR\n",
              "2     84826     ASSTD DESIGN 3D PAPER STICKERS\n",
              "3     21390      FILIGRIS HEART WITH BUTTERFLY\n",
              "4     23014     GLASS APOTHECARY BOTTLE ELIXIR\n",
              "5    85061W    WHITE JEWELLED HEART DECORATION\n",
              "6     23169            CLASSIC GLASS SWEET JAR\n",
              "7     23418           LAVENDER TOILETTE BOTTLE\n",
              "8     22665  RECIPE BOX BLUE SKETCHBOOK DESIGN\n",
              "9     21917    SET 12 KIDS  WHITE CHALK STICKS"
            ]
          },
          "metadata": {
            "tags": []
          },
          "execution_count": 61
        }
      ]
    },
    {
      "cell_type": "code",
      "metadata": {
        "id": "iRUFrWUWm3_8",
        "colab_type": "code",
        "colab": {
          "base_uri": "https://localhost:8080/",
          "height": 164
        },
        "outputId": "d328cdae-5e3a-4cf0-8c3b-d42b4d4b6056"
      },
      "source": [
        "get_items_purchased(12353, product_train_test, customers_arr, products_arr, items_check)\n"
      ],
      "execution_count": null,
      "outputs": [
        {
          "output_type": "execute_result",
          "data": {
            "text/html": [
              "<div>\n",
              "<style scoped>\n",
              "    .dataframe tbody tr th:only-of-type {\n",
              "        vertical-align: middle;\n",
              "    }\n",
              "\n",
              "    .dataframe tbody tr th {\n",
              "        vertical-align: top;\n",
              "    }\n",
              "\n",
              "    .dataframe thead th {\n",
              "        text-align: right;\n",
              "    }\n",
              "</style>\n",
              "<table border=\"1\" class=\"dataframe\">\n",
              "  <thead>\n",
              "    <tr style=\"text-align: right;\">\n",
              "      <th></th>\n",
              "      <th>StockCode</th>\n",
              "      <th>Description</th>\n",
              "    </tr>\n",
              "  </thead>\n",
              "  <tbody>\n",
              "    <tr>\n",
              "      <th>2148</th>\n",
              "      <td>37446</td>\n",
              "      <td>MINI CAKE STAND WITH HANGING CAKES</td>\n",
              "    </tr>\n",
              "    <tr>\n",
              "      <th>2149</th>\n",
              "      <td>37449</td>\n",
              "      <td>CERAMIC CAKE STAND + HANGING CAKES</td>\n",
              "    </tr>\n",
              "    <tr>\n",
              "      <th>4859</th>\n",
              "      <td>37450</td>\n",
              "      <td>CERAMIC CAKE BOWL + HANGING CAKES</td>\n",
              "    </tr>\n",
              "    <tr>\n",
              "      <th>5108</th>\n",
              "      <td>22890</td>\n",
              "      <td>NOVELTY BISCUITS CAKE STAND 3 TIER</td>\n",
              "    </tr>\n",
              "  </tbody>\n",
              "</table>\n",
              "</div>"
            ],
            "text/plain": [
              "     StockCode                         Description\n",
              "2148     37446  MINI CAKE STAND WITH HANGING CAKES\n",
              "2149     37449  CERAMIC CAKE STAND + HANGING CAKES\n",
              "4859     37450   CERAMIC CAKE BOWL + HANGING CAKES\n",
              "5108     22890  NOVELTY BISCUITS CAKE STAND 3 TIER"
            ]
          },
          "metadata": {
            "tags": []
          },
          "execution_count": 62
        }
      ]
    },
    {
      "cell_type": "code",
      "metadata": {
        "id": "Mz8Ic8_Km67-",
        "colab_type": "code",
        "colab": {
          "base_uri": "https://localhost:8080/",
          "height": 340
        },
        "outputId": "d3de449d-571b-4aef-febe-2e67263adc63"
      },
      "source": [
        "rec_items(12353, product_train_test, user_vecs, item_vecs, customers_arr, products_arr,\n",
        "          items_check,num_items = 10)"
      ],
      "execution_count": null,
      "outputs": [
        {
          "output_type": "execute_result",
          "data": {
            "text/html": [
              "<div>\n",
              "<style scoped>\n",
              "    .dataframe tbody tr th:only-of-type {\n",
              "        vertical-align: middle;\n",
              "    }\n",
              "\n",
              "    .dataframe tbody tr th {\n",
              "        vertical-align: top;\n",
              "    }\n",
              "\n",
              "    .dataframe thead th {\n",
              "        text-align: right;\n",
              "    }\n",
              "</style>\n",
              "<table border=\"1\" class=\"dataframe\">\n",
              "  <thead>\n",
              "    <tr style=\"text-align: right;\">\n",
              "      <th></th>\n",
              "      <th>StockCode</th>\n",
              "      <th>Description</th>\n",
              "    </tr>\n",
              "  </thead>\n",
              "  <tbody>\n",
              "    <tr>\n",
              "      <th>0</th>\n",
              "      <td>37447</td>\n",
              "      <td>CERAMIC CAKE DESIGN SPOTTED PLATE</td>\n",
              "    </tr>\n",
              "    <tr>\n",
              "      <th>1</th>\n",
              "      <td>22055</td>\n",
              "      <td>MINI CAKE STAND  HANGING STRAWBERY</td>\n",
              "    </tr>\n",
              "    <tr>\n",
              "      <th>2</th>\n",
              "      <td>21231</td>\n",
              "      <td>SWEETHEART CERAMIC TRINKET BOX</td>\n",
              "    </tr>\n",
              "    <tr>\n",
              "      <th>3</th>\n",
              "      <td>21232</td>\n",
              "      <td>STRAWBERRY CERAMIC TRINKET BOX</td>\n",
              "    </tr>\n",
              "    <tr>\n",
              "      <th>4</th>\n",
              "      <td>22646</td>\n",
              "      <td>CERAMIC STRAWBERRY CAKE MONEY BANK</td>\n",
              "    </tr>\n",
              "    <tr>\n",
              "      <th>5</th>\n",
              "      <td>22649</td>\n",
              "      <td>STRAWBERRY FAIRY CAKE TEAPOT</td>\n",
              "    </tr>\n",
              "    <tr>\n",
              "      <th>6</th>\n",
              "      <td>22064</td>\n",
              "      <td>PINK DOUGHNUT TRINKET POT</td>\n",
              "    </tr>\n",
              "    <tr>\n",
              "      <th>7</th>\n",
              "      <td>22057</td>\n",
              "      <td>CERAMIC PLATE STRAWBERRY DESIGN</td>\n",
              "    </tr>\n",
              "    <tr>\n",
              "      <th>8</th>\n",
              "      <td>47559B</td>\n",
              "      <td>TEA TIME OVEN GLOVE</td>\n",
              "    </tr>\n",
              "    <tr>\n",
              "      <th>9</th>\n",
              "      <td>22063</td>\n",
              "      <td>CERAMIC BOWL WITH STRAWBERRY DESIGN</td>\n",
              "    </tr>\n",
              "  </tbody>\n",
              "</table>\n",
              "</div>"
            ],
            "text/plain": [
              "  StockCode                          Description\n",
              "0     37447    CERAMIC CAKE DESIGN SPOTTED PLATE\n",
              "1     22055   MINI CAKE STAND  HANGING STRAWBERY\n",
              "2     21231       SWEETHEART CERAMIC TRINKET BOX\n",
              "3     21232       STRAWBERRY CERAMIC TRINKET BOX\n",
              "4     22646   CERAMIC STRAWBERRY CAKE MONEY BANK\n",
              "5     22649         STRAWBERRY FAIRY CAKE TEAPOT\n",
              "6     22064           PINK DOUGHNUT TRINKET POT \n",
              "7     22057      CERAMIC PLATE STRAWBERRY DESIGN\n",
              "8    47559B                  TEA TIME OVEN GLOVE\n",
              "9     22063  CERAMIC BOWL WITH STRAWBERRY DESIGN"
            ]
          },
          "metadata": {
            "tags": []
          },
          "execution_count": 63
        }
      ]
    },
    {
      "cell_type": "code",
      "metadata": {
        "id": "6BRhpA1fm62b",
        "colab_type": "code",
        "colab": {
          "base_uri": "https://localhost:8080/",
          "height": 311
        },
        "outputId": "3fc263d0-bff5-49be-9064-36e5ee8eb742"
      },
      "source": [
        "get_items_purchased(12361, product_train_test, customers_arr, products_arr, items_check)\n"
      ],
      "execution_count": null,
      "outputs": [
        {
          "output_type": "execute_result",
          "data": {
            "text/html": [
              "<div>\n",
              "<style scoped>\n",
              "    .dataframe tbody tr th:only-of-type {\n",
              "        vertical-align: middle;\n",
              "    }\n",
              "\n",
              "    .dataframe tbody tr th {\n",
              "        vertical-align: top;\n",
              "    }\n",
              "\n",
              "    .dataframe thead th {\n",
              "        text-align: right;\n",
              "    }\n",
              "</style>\n",
              "<table border=\"1\" class=\"dataframe\">\n",
              "  <thead>\n",
              "    <tr style=\"text-align: right;\">\n",
              "      <th></th>\n",
              "      <th>StockCode</th>\n",
              "      <th>Description</th>\n",
              "    </tr>\n",
              "  </thead>\n",
              "  <tbody>\n",
              "    <tr>\n",
              "      <th>34</th>\n",
              "      <td>22326</td>\n",
              "      <td>ROUND SNACK BOXES SET OF4 WOODLAND</td>\n",
              "    </tr>\n",
              "    <tr>\n",
              "      <th>35</th>\n",
              "      <td>22629</td>\n",
              "      <td>SPACEBOY LUNCH BOX</td>\n",
              "    </tr>\n",
              "    <tr>\n",
              "      <th>37</th>\n",
              "      <td>22631</td>\n",
              "      <td>CIRCUS PARADE LUNCH BOX</td>\n",
              "    </tr>\n",
              "    <tr>\n",
              "      <th>93</th>\n",
              "      <td>20725</td>\n",
              "      <td>LUNCH BAG RED RETROSPOT</td>\n",
              "    </tr>\n",
              "    <tr>\n",
              "      <th>369</th>\n",
              "      <td>22382</td>\n",
              "      <td>LUNCH BAG SPACEBOY DESIGN</td>\n",
              "    </tr>\n",
              "    <tr>\n",
              "      <th>547</th>\n",
              "      <td>22328</td>\n",
              "      <td>ROUND SNACK BOXES SET OF 4 FRUITS</td>\n",
              "    </tr>\n",
              "    <tr>\n",
              "      <th>549</th>\n",
              "      <td>22630</td>\n",
              "      <td>DOLLY GIRL LUNCH BOX</td>\n",
              "    </tr>\n",
              "    <tr>\n",
              "      <th>1241</th>\n",
              "      <td>22555</td>\n",
              "      <td>PLASTERS IN TIN STRONGMAN</td>\n",
              "    </tr>\n",
              "    <tr>\n",
              "      <th>58132</th>\n",
              "      <td>20725</td>\n",
              "      <td>LUNCH BAG RED SPOTTY</td>\n",
              "    </tr>\n",
              "  </tbody>\n",
              "</table>\n",
              "</div>"
            ],
            "text/plain": [
              "      StockCode                          Description\n",
              "34        22326  ROUND SNACK BOXES SET OF4 WOODLAND \n",
              "35        22629                  SPACEBOY LUNCH BOX \n",
              "37        22631             CIRCUS PARADE LUNCH BOX \n",
              "93        20725              LUNCH BAG RED RETROSPOT\n",
              "369       22382           LUNCH BAG SPACEBOY DESIGN \n",
              "547       22328   ROUND SNACK BOXES SET OF 4 FRUITS \n",
              "549       22630                 DOLLY GIRL LUNCH BOX\n",
              "1241      22555            PLASTERS IN TIN STRONGMAN\n",
              "58132     20725                 LUNCH BAG RED SPOTTY"
            ]
          },
          "metadata": {
            "tags": []
          },
          "execution_count": 64
        }
      ]
    },
    {
      "cell_type": "code",
      "metadata": {
        "id": "IL0lI2Fpm_nR",
        "colab_type": "code",
        "colab": {
          "base_uri": "https://localhost:8080/",
          "height": 340
        },
        "outputId": "176c34ae-23fd-46a6-bea8-8cc67f9ff8f1"
      },
      "source": [
        "rec_items(12361, product_train_test, user_vecs, item_vecs, customers_arr, products_arr, items_check,\n",
        "                       num_items = 10)"
      ],
      "execution_count": null,
      "outputs": [
        {
          "output_type": "execute_result",
          "data": {
            "text/html": [
              "<div>\n",
              "<style scoped>\n",
              "    .dataframe tbody tr th:only-of-type {\n",
              "        vertical-align: middle;\n",
              "    }\n",
              "\n",
              "    .dataframe tbody tr th {\n",
              "        vertical-align: top;\n",
              "    }\n",
              "\n",
              "    .dataframe thead th {\n",
              "        text-align: right;\n",
              "    }\n",
              "</style>\n",
              "<table border=\"1\" class=\"dataframe\">\n",
              "  <thead>\n",
              "    <tr style=\"text-align: right;\">\n",
              "      <th></th>\n",
              "      <th>StockCode</th>\n",
              "      <th>Description</th>\n",
              "    </tr>\n",
              "  </thead>\n",
              "  <tbody>\n",
              "    <tr>\n",
              "      <th>0</th>\n",
              "      <td>22551</td>\n",
              "      <td>PLASTERS IN TIN SPACEBOY</td>\n",
              "    </tr>\n",
              "    <tr>\n",
              "      <th>1</th>\n",
              "      <td>22662</td>\n",
              "      <td>LUNCH BAG DOLLY GIRL DESIGN</td>\n",
              "    </tr>\n",
              "    <tr>\n",
              "      <th>2</th>\n",
              "      <td>22383</td>\n",
              "      <td>LUNCH BAG SUKI  DESIGN</td>\n",
              "    </tr>\n",
              "    <tr>\n",
              "      <th>3</th>\n",
              "      <td>20726</td>\n",
              "      <td>LUNCH BAG WOODLAND</td>\n",
              "    </tr>\n",
              "    <tr>\n",
              "      <th>4</th>\n",
              "      <td>20727</td>\n",
              "      <td>LUNCH BAG  BLACK SKULL.</td>\n",
              "    </tr>\n",
              "    <tr>\n",
              "      <th>5</th>\n",
              "      <td>22554</td>\n",
              "      <td>PLASTERS IN TIN WOODLAND ANIMALS</td>\n",
              "    </tr>\n",
              "    <tr>\n",
              "      <th>6</th>\n",
              "      <td>23206</td>\n",
              "      <td>LUNCH BAG APPLE DESIGN</td>\n",
              "    </tr>\n",
              "    <tr>\n",
              "      <th>7</th>\n",
              "      <td>20728</td>\n",
              "      <td>LUNCH BAG CARS BLUE</td>\n",
              "    </tr>\n",
              "    <tr>\n",
              "      <th>8</th>\n",
              "      <td>23209</td>\n",
              "      <td>LUNCH BAG DOILEY PATTERN</td>\n",
              "    </tr>\n",
              "    <tr>\n",
              "      <th>9</th>\n",
              "      <td>20719</td>\n",
              "      <td>WOODLAND CHARLOTTE BAG</td>\n",
              "    </tr>\n",
              "  </tbody>\n",
              "</table>\n",
              "</div>"
            ],
            "text/plain": [
              "  StockCode                       Description\n",
              "0     22551          PLASTERS IN TIN SPACEBOY\n",
              "1     22662       LUNCH BAG DOLLY GIRL DESIGN\n",
              "2     22383           LUNCH BAG SUKI  DESIGN \n",
              "3     20726                LUNCH BAG WOODLAND\n",
              "4     20727           LUNCH BAG  BLACK SKULL.\n",
              "5     22554  PLASTERS IN TIN WOODLAND ANIMALS\n",
              "6     23206            LUNCH BAG APPLE DESIGN\n",
              "7     20728               LUNCH BAG CARS BLUE\n",
              "8     23209         LUNCH BAG DOILEY PATTERN \n",
              "9     20719            WOODLAND CHARLOTTE BAG"
            ]
          },
          "metadata": {
            "tags": []
          },
          "execution_count": 65
        }
      ]
    },
    {
      "cell_type": "code",
      "metadata": {
        "id": "18SF5Hjbm_Y2",
        "colab_type": "code",
        "colab": {
          "base_uri": "https://localhost:8080/",
          "height": 35
        },
        "outputId": "55ccc2aa-048a-4ace-cce7-af2d48646fe5"
      },
      "source": [
        "print(customers_arr)"
      ],
      "execution_count": null,
      "outputs": [
        {
          "output_type": "stream",
          "text": [
            "[12346 12347 12348 ... 18282 18283 18287]\n"
          ],
          "name": "stdout"
        }
      ]
    },
    {
      "cell_type": "code",
      "metadata": {
        "id": "As353j4pqd-Z",
        "colab_type": "code",
        "colab": {}
      },
      "source": [
        "customer_id = 12348\n",
        "c = np.where(customers_arr == customer_id)[0][0]"
      ],
      "execution_count": null,
      "outputs": []
    },
    {
      "cell_type": "code",
      "metadata": {
        "id": "kxPmx5inslLQ",
        "colab_type": "code",
        "colab": {}
      },
      "source": [
        ""
      ],
      "execution_count": null,
      "outputs": []
    },
    {
      "cell_type": "code",
      "metadata": {
        "id": "XVbBW5q8MZcW",
        "colab_type": "code",
        "colab": {}
      },
      "source": [
        ""
      ],
      "execution_count": null,
      "outputs": []
    },
    {
      "cell_type": "code",
      "metadata": {
        "id": "0z_p_KtDMZY9",
        "colab_type": "code",
        "colab": {}
      },
      "source": [
        ""
      ],
      "execution_count": null,
      "outputs": []
    },
    {
      "cell_type": "code",
      "metadata": {
        "id": "mcEh4UTTMZS_",
        "colab_type": "code",
        "colab": {}
      },
      "source": [
        ""
      ],
      "execution_count": null,
      "outputs": []
    },
    {
      "cell_type": "code",
      "metadata": {
        "id": "2NGAsB7RMZQo",
        "colab_type": "code",
        "colab": {}
      },
      "source": [
        ""
      ],
      "execution_count": null,
      "outputs": []
    },
    {
      "cell_type": "code",
      "metadata": {
        "id": "C6MleElmN2xn",
        "colab_type": "code",
        "colab": {}
      },
      "source": [
        ""
      ],
      "execution_count": null,
      "outputs": []
    }
  ]
}